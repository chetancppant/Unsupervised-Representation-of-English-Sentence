{
  "nbformat": 4,
  "nbformat_minor": 0,
  "metadata": {
    "colab": {
      "name": "unsupervised_learning_encoder (1).ipynb",
      "provenance": [],
      "collapsed_sections": []
    },
    "kernelspec": {
      "display_name": "Python 3",
      "name": "python3"
    },
    "language_info": {
      "name": "python"
    },
    "accelerator": "GPU"
  },
  "cells": [
    {
      "cell_type": "markdown",
      "metadata": {
        "id": "o1VPqyMPen34"
      },
      "source": [
        "# 1.Introduction"
      ]
    },
    {
      "cell_type": "markdown",
      "metadata": {
        "id": "8pyUyWyterCC"
      },
      "source": [
        "This notebook contains the sequence to sequence model for unsupervised representation of text using Pytorch. For encoder, a bi-directional Bidirectional LSTM and the decoder uses attention layer and uni-directional LSTM . The source and target language sentences are appended with start of sequence (\\<sos\\>) and end of sequence (\\<eos\\>) tokens. NLTK is used for tokenization of English sentences. AdamW optimizer and Cross Entropy Loss Function are used for computation of loss and to update the parameters of the model."
      ]
    },
    {
      "cell_type": "markdown",
      "metadata": {
        "id": "RhteQdgti9jf"
      },
      "source": [
        "# 2. Installing the required packages"
      ]
    },
    {
      "cell_type": "code",
      "metadata": {
        "id": "oK2kj6qucJL3"
      },
      "source": [
        "import csv\n",
        "import torch\n",
        "import re\n",
        "import random\n",
        "import numpy as np\n",
        "import torch.nn.functional as F\n",
        "import torch.nn as nn\n",
        "import torch.optim as optim\n",
        "from nltk.tokenize import RegexpTokenizer\n",
        "from torch.utils.data import DataLoader\n",
        "from torch.nn.utils.rnn import pad_sequence"
      ],
      "execution_count": 2,
      "outputs": []
    },
    {
      "cell_type": "code",
      "metadata": {
        "id": "VLth0pEXdtfS",
        "colab": {
          "base_uri": "https://localhost:8080/"
        },
        "outputId": "2b03d920-fdd9-4086-cc5d-ccd38bb29f8f"
      },
      "source": [
        "from google.colab import drive\n",
        "drive.mount('/content/gdrive')"
      ],
      "execution_count": 4,
      "outputs": [
        {
          "output_type": "stream",
          "text": [
            "Mounted at /content/gdrive\n"
          ],
          "name": "stdout"
        }
      ]
    },
    {
      "cell_type": "markdown",
      "metadata": {
        "id": "9nKE4hMlWXVQ"
      },
      "source": [
        "# 3. Pre-processing data"
      ]
    },
    {
      "cell_type": "markdown",
      "metadata": {
        "id": "85LfbAn6t-Lb"
      },
      "source": [
        "###  English Tokenizers"
      ]
    },
    {
      "cell_type": "markdown",
      "metadata": {
        "id": "B2n1l7keurmR"
      },
      "source": [
        "For tokenization of English sentences, Regexp tokenizer of NLTK is used. This tokenizer is selected for tokenization because while tokenizing it takes care of Apostophe symbol. For example, if the sentence is \"I'll be there\", then Regexp tokenizer will tokenize it as [\"I'll\", 'be', 'there'] whereas word_tokenizer() of NLTK will tokenize it as ['I', \"'ll\", 'be', 'there']. "
      ]
    },
    {
      "cell_type": "code",
      "metadata": {
        "id": "09MQlAvHu4uQ"
      },
      "source": [
        "regexp_tokenizer= RegexpTokenizer(\"[m\\w']+\")\n",
        "end_punctuation=['.', '!', '?'] \n",
        "def english_tokenizer(text_in_english):\n",
        "  english_tokens=[]\n",
        "  for token in regexp_tokenizer.tokenize(text_in_english):\n",
        "    english_tokens.append(token)\n",
        "  # the Regexp tokenizer doesn't adds the punctuations like \". ! ?\" as tokens, so these punctuation marks are added as tokens to english sentences \n",
        "  if text_in_english[-1] in end_punctuation:\n",
        "    english_tokens.append(text_in_english[-1])\n",
        "  return english_tokens "
      ],
      "execution_count": 3,
      "outputs": []
    },
    {
      "cell_type": "markdown",
      "metadata": {
        "id": "dUmseYCHwN1x"
      },
      "source": [
        "### Creating Train and validation set"
      ]
    },
    {
      "cell_type": "code",
      "metadata": {
        "id": "a1T2csMoS0SO"
      },
      "source": [
        "train_ds=[]\n",
        "val_ds=[]\n",
        "with open('/content/gdrive/MyDrive/Unsupervised learning encoder/train.txt', 'r') as f: #reading the train file\n",
        "    csv_reader = csv.reader(f, delimiter=',')\n",
        "    for row in csv_reader:\n",
        "      if(len(row[0])>0):\n",
        "        train_ds.append([row[0].lower()])\n",
        "\n",
        "with open('/content/gdrive/MyDrive/Unsupervised learning encoder/valid.txt', 'r') as f: #reading the train file\n",
        "    csv_reader = csv.reader(f, delimiter=',')\n",
        "    for row in csv_reader:\n",
        "      if(len(row[0])>0):\n",
        "        val_ds.append([row[0]])\n"
      ],
      "execution_count": 4,
      "outputs": []
    },
    {
      "cell_type": "code",
      "metadata": {
        "id": "0Rzts0mY0kzz",
        "colab": {
          "base_uri": "https://localhost:8080/"
        },
        "outputId": "d19c55af-1e1e-4bd5-8dc5-a86e26fa8af8"
      },
      "source": [
        "train_ds[:10]"
      ],
      "execution_count": 5,
      "outputs": [
        {
          "output_type": "execute_result",
          "data": {
            "text/plain": [
              "[['mr hoagie is an institution .'],\n",
              " ['overall '],\n",
              " ['excellent food .'],\n",
              " ['superb customer service .'],\n",
              " ['yes this place is a little out dated and not opened on the weekend .'],\n",
              " ['which is always spot on fresh veggies on their hoggies and other food .'],\n",
              " ['they also have daily specials and ice cream which is really good .'],\n",
              " ['i had a banana split they piled the toppings on .'],\n",
              " ['they win pennysaver awards ever years i see why .'],\n",
              " ['pros : italian hoagie was delicious .']]"
            ]
          },
          "metadata": {
            "tags": []
          },
          "execution_count": 5
        }
      ]
    },
    {
      "cell_type": "code",
      "metadata": {
        "colab": {
          "base_uri": "https://localhost:8080/"
        },
        "id": "WzMDmTCEUjub",
        "outputId": "f27577f5-1d55-48d1-bb37-71670ad1aed1"
      },
      "source": [
        "len(val_ds)"
      ],
      "execution_count": 6,
      "outputs": [
        {
          "output_type": "execute_result",
          "data": {
            "text/plain": [
              "9999"
            ]
          },
          "metadata": {
            "tags": []
          },
          "execution_count": 6
        }
      ]
    },
    {
      "cell_type": "markdown",
      "metadata": {
        "id": "UenjvmTJGWci"
      },
      "source": [
        "# 4.Building the Vocabulary\n",
        "\n",
        "---\n",
        "\n"
      ]
    },
    {
      "cell_type": "markdown",
      "metadata": {
        "id": "H87cvlTp0ZAw"
      },
      "source": [
        "To build the  english vocabulary, first a list of tokens is generated using the tokenizer functions and then checked if the token already exists in the dictioanry. If the token is not present in the dictionary then it is assigned an index and added to the dictionary. . One dictionary maps the word to its corresponding index (word2index) and another maps the index to the corresponding word (index2word). One dictionary is maintained to keep the count of number of occurrences of each word in the corpus. This dictionary can help to limit the size of the vocabulary by keeping the most frequent words in vocabulary."
      ]
    },
    {
      "cell_type": "code",
      "metadata": {
        "id": "FUlxrP46Egqr"
      },
      "source": [
        "sos_token='<sos>' # start of sequence token; appended at start of sentence\n",
        "eos_token='<eos>' # end of sequence token; appended at end of sentence\n",
        "unk_token='<unk>' # unknown token; used to represent a word if that word is not found in the dictionary\n",
        "pad_token='<pad>' # token for padding; used to make all sentences of equal length in a batch"
      ],
      "execution_count": 7,
      "outputs": []
    },
    {
      "cell_type": "code",
      "metadata": {
        "id": "XDpAf8YdBMv5"
      },
      "source": [
        "# dictionary to keep count of occurrence of each English word\n",
        "E_wordCount={} \n",
        "\n",
        "# dictioanry to find the index for a word in English\n",
        "E_word2index={sos_token:0, eos_token:1, unk_token:2, pad_token:3}\n",
        "\n",
        "# dictionary to find the English word for a particular index\n",
        "E_index2word={0:sos_token, 1:eos_token, 2:unk_token, 3:pad_token}\n",
        "\n",
        "E_count=4 # keeps count of number of words so far in English dictionary"
      ],
      "execution_count": 8,
      "outputs": []
    },
    {
      "cell_type": "markdown",
      "metadata": {
        "id": "EE2IwbD_1dAR"
      },
      "source": [
        "Defining functions to update the dictionary."
      ]
    },
    {
      "cell_type": "code",
      "metadata": {
        "id": "SlIueCw2x_vr"
      },
      "source": [
        "# function to add a word in English dictionary\n",
        "def E_updateDict(eng_sentence):\n",
        "  global E_count\n",
        "  tokens= english_tokenizer(eng_sentence) #generating tokens for the given sentence\n",
        "  for token in tokens:\n",
        "    E_wordCount[token]= E_wordCount.get(token,0)+1\n",
        "    if (token not in E_word2index.keys()): # check if the token already exists in English dictionary\n",
        "      # if the token is not present in English dictionary then add it to word2index and index2word English dictionary\n",
        "      E_word2index[token]= E_count\n",
        "      E_index2word[E_count]=token\n",
        "      E_count+=1 # increasing the count of words in English vocabulary\n",
        "    else:\n",
        "      E_wordCount[token]+=1 # if the token exists in dictionary then simply increase it's count of occurrence"
      ],
      "execution_count": 9,
      "outputs": []
    },
    {
      "cell_type": "code",
      "metadata": {
        "id": "wATPy_6XFPfY"
      },
      "source": [
        "# reading the training pairs to  english vocabulary\n",
        "for pair in train_ds:\n",
        "  # print(pair)\n",
        "  E_updateDict(pair[0]) # updating english vocabulary"
      ],
      "execution_count": 10,
      "outputs": []
    },
    {
      "cell_type": "code",
      "metadata": {
        "id": "fVDpuLId1qTI",
        "colab": {
          "base_uri": "https://localhost:8080/"
        },
        "outputId": "64b7c530-d394-466e-fd82-116e4f48436f"
      },
      "source": [
        "eng_sentence= \"it's got that nice \"\n",
        "print(english_tokenizer(eng_sentence))"
      ],
      "execution_count": 11,
      "outputs": [
        {
          "output_type": "stream",
          "text": [
            "[\"it's\", 'got', 'that', 'nice']\n"
          ],
          "name": "stdout"
        }
      ]
    },
    {
      "cell_type": "code",
      "metadata": {
        "id": "3_jXy7mJKH3T",
        "colab": {
          "base_uri": "https://localhost:8080/"
        },
        "outputId": "4d7e93cc-91ac-494a-b907-2f5c1efa3d3a"
      },
      "source": [
        "# number of words in  english vocabulary\n",
        "print(E_count) "
      ],
      "execution_count": 12,
      "outputs": [
        {
          "output_type": "stream",
          "text": [
            "26630\n"
          ],
          "name": "stdout"
        }
      ]
    },
    {
      "cell_type": "markdown",
      "metadata": {
        "id": "_MS-pSY99XG5"
      },
      "source": [
        "# 5. Model Architecture"
      ]
    },
    {
      "cell_type": "markdown",
      "metadata": {
        "id": "TDdp4cQ8728B"
      },
      "source": [
        "#### Defining the Encoder architecture\n",
        "For encoder a bidirectional LSTM is used, where the forward RNN goes over the embedded sentence from left to right and the backward RNN goes over the embedded sentence from right to left. Due to bidirectional nature of encoder, we get two context vectors, one corresponding to each RNN. However, since the decoder used is unidirectional LSTM, so these context vectors are concatenated together through a linear layer and then the tanh activation function is applied."
      ]
    },
    {
      "cell_type": "code",
      "metadata": {
        "id": "cQ9CIX5mg4Zl"
      },
      "source": [
        "class Encoder(nn.Module):\n",
        "    def __init__(self, input_size, embedding_size, hidden_size, dropout_val):\n",
        "        super().__init__()\n",
        "        self.dropout = nn.Dropout(dropout_val)\n",
        "        self.embedding = nn.Embedding(input_size, embedding_size)\n",
        "        # to make the LSTM bidirectional we pass bidirectional=True parameter\n",
        "        self.lstm = nn.LSTM(embedding_size, hidden_size, bidirectional = True)\n",
        "        # fully connected linear layer\n",
        "        self.linear_hidden = nn.Linear(hidden_size * 2, hidden_size)\n",
        "        self.linear_cell = nn.Linear(hidden_size * 2, hidden_size)\n",
        "        # self.linear_output = nn.Linear(hidden_size * 2, hidden_size)\n",
        "        \n",
        "    def forward(self, token_vec):  \n",
        "        #token_vec is a vector of indices mapping a word to its index in the vocabulary. token_vec.shape()=[max_batch_length, batch size]\n",
        "        \n",
        "        embedding = self.dropout(self.embedding(token_vec)) #embedding is a 3D tensor of shape (seq length, batch_size, embedding_size)\n",
        "        \n",
        "        encoder_outputs, (encoder_hidden, encoder_cell) = self.lstm(embedding) # the embedding is passed as input to the LSTM\n",
        "        # encoder_outputs has dimensions [seq length, batch size, 2*hidden_size]\n",
        "        # encoder_hidden has dimensions [2, batch_size, hidden_size]\n",
        "        # in encoder_outputs, encoder_hidden and encoder_cell we have 2 due to the bidirectional nature of LSTM encoder. These are hidden states of both the forward RNN and backward RNN.\n",
        "        \n",
        "        # concatinating the hidden states of both the layers using a linear layer and then applying tanh activation function\n",
        "        # encoder_hidden[-2,:,:] represents the hidden states from forward layer and encoder_hidden[-1,:,:] represents the hidden states from backward layer after the final time step\n",
        "\n",
        "        encoder_hidden = self.linear_hidden(torch.cat((encoder_hidden[0:1], encoder_hidden[1:2]), dim = 2))\n",
        "        encoder_cell = self.linear_cell(torch.cat((encoder_cell[0:1], encoder_cell[1:2]), dim = 2))\n",
        "        return encoder_hidden, encoder_cell "
      ],
      "execution_count": 13,
      "outputs": []
    },
    {
      "cell_type": "markdown",
      "metadata": {
        "id": "ZKL2XeFr78nM"
      },
      "source": [
        "Definning the Decoder architecture"
      ]
    },
    {
      "cell_type": "code",
      "metadata": {
        "id": "R77v_9F4B-_R"
      },
      "source": [
        "class Decoder(nn.Module):\n",
        "    def __init__(self, embedding_size, hidden_size, output_size,num_layers, dropout_val):\n",
        "        super().__init__()\n",
        "        self.output_size = output_size\n",
        "        self.dropout = nn.Dropout(dropout_val)\n",
        "        self.embedding = nn.Embedding(output_size, embedding_size)\n",
        "        self.lstm = nn.LSTM(embedding_size, hidden_size, num_layers, dropout=dropout_val)\n",
        "        self.linear_decoder = nn.Linear(hidden_size , output_size)        \n",
        "        \n",
        "    def forward(self, token_vec, hidden, cell): \n",
        "        #token_vec is one dimensional i.e. shape(token_vec) = (batch_size), hidden is a 2D vector of shape [batch_size, hidden_size] \n",
        "        #encoder_outputs have shape [seq len, batch_size, 2*hidden_size]\n",
        "        token_vec = token_vec.unsqueeze(0) # unsqueeze adds one more dimension to token_vec\n",
        "        embedding = self.dropout(self.embedding(token_vec)) #embedding is a 3D tensor of shape (1, batch_size, embedding_size)\n",
        "        outputs, (hidden,cell) = self.lstm(embedding, (hidden,cell)) # hidden and cell states are used to determine the next word in the sequence and output is the current predicted word. \n",
        "        predictions = self.linear_decoder(outputs) # shape(outputs)= (1, batch size, hidden size), shape(predictions)= (1, batch_size, english vocabulary size)\n",
        "        predictions = predictions.squeeze(0) #remove the one extra dimension which was added using unsqueeze. \n",
        "        return predictions, hidden, cell"
      ],
      "execution_count": 14,
      "outputs": []
    },
    {
      "cell_type": "markdown",
      "metadata": {
        "id": "TxgpaHKH8BIu"
      },
      "source": [
        "Defining the Seq2Seq class to define the model architecture"
      ]
    },
    {
      "cell_type": "code",
      "metadata": {
        "id": "vi6XfLVzJuQn"
      },
      "source": [
        "class seq2seq(nn.Module):\n",
        "    def __init__(self, encoder, decoder, device):\n",
        "        super().__init__()     \n",
        "        self.encoder = encoder\n",
        "        self.decoder = decoder\n",
        "        self.device = device\n",
        "        \n",
        "    def forward(self, input_token, target_token, teacher_force_ratio = 0): #teacher_force_ratio helps in preventing the model from overfitting and underfitting.\n",
        "        # teacher_force_ratio helps in deciding whether the next input word to the decoder will be actual/target word or the previous predicted word. \n",
        "        # input_token is tensor of [seq length, batch_size] shape and target_token has shape [target_length, batch-size]\n",
        "        \n",
        "        batch_size = input_token.shape[1] \n",
        "        target_len = target_token.shape[0]\n",
        "        english_dict_size = self.decoder.output_size\n",
        "        \n",
        "        #tensor to store decoder outputs, it is initially initialised to all zeroes\n",
        "        predicted_vector = torch.zeros(target_len, batch_size, english_dict_size).to(self.device)\n",
        "        hidden, cell = self.encoder(input_token)\n",
        "        # encoder output stores all the hidden states in the input sequence both in forward and backward direction and hidden stores forward and backward hidden states after the final time step\n",
        "        token_vec = target_token[0,:] #appending the <sos> token in prediction vector\n",
        "        \n",
        "        for i in range(1, target_len):\n",
        "            output_token, hidden, cell = self.decoder(token_vec, hidden, cell)  #embedded input token, previous hidden states and encoder hidden states are passed to the decoder to obtain the prediction\n",
        "            predicted_vector[i] = output_token #output is appended to the prediction tokens\n",
        "     \n",
        "            if (random.random() < teacher_force_ratio): #half of the times this will be true if teacher_force_ratio is 0.5\n",
        "              token_vec= target_token[i] #in this case next input to the decoder is target/actual word\n",
        "            else:\n",
        "              token_vec= output_token.argmax(1) #in this case next input to the decoder is predicted word\n",
        "\n",
        "        return predicted_vector"
      ],
      "execution_count": 15,
      "outputs": []
    },
    {
      "cell_type": "markdown",
      "metadata": {
        "id": "VLcoQOYF-P5P"
      },
      "source": [
        "# 6. Training the Model"
      ]
    },
    {
      "cell_type": "markdown",
      "metadata": {
        "id": "315KjUmA8MhA"
      },
      "source": [
        "Setting optimal hyperparameters for Training"
      ]
    },
    {
      "cell_type": "code",
      "metadata": {
        "id": "6Ea-G1QeJ4iq"
      },
      "source": [
        "#Hyperparameters\n",
        "batch_size = 128\n",
        "learning_rate = 0.001\n",
        "epochs =35\n",
        "epoch_loss=0.0 # training loss in each epoch\n",
        "layers = 1 # number of neural network layers in rnn\n",
        "device = torch.device(\"cuda\" if torch.cuda.is_available() else \"cpu\")\n",
        "input_size = E_count\n",
        "output_size = E_count\n",
        "hidden_size = 100 # encoder and decoder have same hidden size\n",
        "embedding_size = 100 # encoder and decoder embedding size\n",
        "dropout = 0.5 # encoder and decoder dropout value"
      ],
      "execution_count": 16,
      "outputs": []
    },
    {
      "cell_type": "markdown",
      "metadata": {
        "id": "AskD18Gf8Yq5"
      },
      "source": [
        "**Preparing data for training the Model:**  To create batches of same length, I calculated the maximum length of sentence in a batch and stored this value in a dictionary with key as batch_id. After obtaining the maximum length for each batch, \"\\<pad\\>\" token was appended to the sentences whose length was less than the maximum length of sentence in that batch. After that, Dataloader is used to create batches of the required batch size. Each batch will have sentences of same length."
      ]
    },
    {
      "cell_type": "code",
      "metadata": {
        "id": "DUuKTQ_rpMbe"
      },
      "source": [
        "\n",
        "train_ds.sort(key= lambda x: len(x[0])) "
      ],
      "execution_count": 18,
      "outputs": []
    },
    {
      "cell_type": "code",
      "metadata": {
        "id": "gZmj-IzHS4qx"
      },
      "source": [
        "# finding the maximum length of sentence in a batch\n",
        "max_length_train={} # stores maximum length of sentences in training data\n",
        "batch_id=1\n",
        "# computing maximum length for each batch of training data\n",
        "for i in range(0,len(train_ds),batch_size):\n",
        "  max_len=0 \n",
        "  for pair in train_ds[i:i+batch_size]:\n",
        "    E_maxlength=0\n",
        "    H_maxlength=0\n",
        "    for token in english_tokenizer(pair[0]):\n",
        "      E_maxlength+=1\n",
        "    max_len=max(max_len,E_maxlength )\n",
        "  max_length_train[batch_id]=max_len+2\n",
        "  batch_id+=1\n",
        "\n",
        "max_length_test={} # stores maximum length of sentences in test/validation data\n",
        "batch_id=1\n",
        "# computing maximum length for each batch of validation data\n",
        "for i in range(0,len(val_ds),batch_size):\n",
        "  max_len=0\n",
        "  for pair in val_ds[i:i+batch_size]:\n",
        "    E_maxlength=0\n",
        "    for token in english_tokenizer(pair[0]):\n",
        "      E_maxlength+=1\n",
        "    max_len=max(max_len,E_maxlength )\n",
        "  max_length_test[batch_id]=max_len+2\n",
        "  batch_id+=1   "
      ],
      "execution_count": 19,
      "outputs": []
    },
    {
      "cell_type": "code",
      "metadata": {
        "id": "tvWA6jNEqF_W"
      },
      "source": [
        "\n",
        "# E_sentenceToTensor function takes a sentence, maximum length as argument and returns a tensor of indices with padding done, if required.\n",
        "def E_sentenceToTensor(sentence,max_length):\n",
        "  # append start of sequence token at beginning\n",
        "  trg_index=[E_word2index['<sos>']]\n",
        "  for token in english_tokenizer(sentence):\n",
        "    # if the word in not present in dictionary then index corresponding to unknown token '<unk>' i.e. 2 is used\n",
        "    trg_index.append(E_word2index.get(token,2))\n",
        "  # append end of sequence token\n",
        "  trg_index.append(E_word2index['<eos>'])\n",
        "  # check if length of sentence is less than maximum length, if yes, then append <pad> token\n",
        "  if(len(trg_index)<max_length): \n",
        "    while(len(trg_index)!=max_length):\n",
        "      trg_index.append(E_word2index['<pad>'])\n",
        "  return torch.Tensor(trg_index) # returning tensor of indices with length equal to max_length"
      ],
      "execution_count": 20,
      "outputs": []
    },
    {
      "cell_type": "code",
      "metadata": {
        "id": "pxSftaT2fVD-"
      },
      "source": [
        "train_tensor=[] \n",
        "test_tensor=[] # stores tensor of indexes of validation/test data\n",
        "\n",
        "# finding tensor of indexes of training data\n",
        "batch_id=1\n",
        "for i in range(0,len(train_ds),batch_size):\n",
        "  max_len=max_length_train[batch_id]\n",
        "  for pair in train_ds[i:i+batch_size]:\n",
        "    source_tensor=E_sentenceToTensor(pair[0],max_len)\n",
        "    target_tensor=E_sentenceToTensor(pair[0],max_len)\n",
        "    train_tensor.append([source_tensor, target_tensor])\n",
        "  batch_id+=1\n",
        "\n",
        "# finding tensor of indexes of validation/test data\n",
        "batch_id=1\n",
        "for i in range(0,len(val_ds),batch_size):\n",
        "  max_len=max_length_test[batch_id]\n",
        "  for pair in val_ds[i:i+batch_size]:\n",
        "    source_tensor=E_sentenceToTensor(pair[0],max_len)\n",
        "    target_tensor=E_sentenceToTensor(pair[0],max_len)\n",
        "    test_tensor.append([source_tensor, target_tensor])\n",
        "  batch_id+=1"
      ],
      "execution_count": 21,
      "outputs": []
    },
    {
      "cell_type": "code",
      "metadata": {
        "id": "E3biKde5Uoqf"
      },
      "source": [
        "# finding train and test iterator using data loader\n",
        "# shuffle=false is used so that data remains sorted in batches\n",
        "train_iterator = DataLoader(train_tensor, batch_size=batch_size,shuffle=False) \n",
        "test_iterator = DataLoader(test_tensor, batch_size=batch_size,shuffle=False)"
      ],
      "execution_count": 22,
      "outputs": []
    },
    {
      "cell_type": "code",
      "metadata": {
        "id": "PWdhymbD0aGu"
      },
      "source": [
        "# function to evaluate the validation loss in each epoch\n",
        "def evaluate(model, iterator, criterion):\n",
        "  model.eval()\n",
        "  epoch_loss = 0\n",
        "  with torch.no_grad():\n",
        "    for i, (x,y) in enumerate(iterator):\n",
        "      input_sentence = x.long() \n",
        "      target_sentence = y.long()\n",
        "      # input_sentence and target_sentence have shape = (batch_size, maximum length) but we need shape to be (maximum length, batch_size ) so they are transposed\n",
        "      input_sentence=torch.transpose(input_sentence, 0, 1).to(device)\n",
        "      target_sentence=torch.transpose(target_sentence, 0, 1).to(device)\n",
        "      \n",
        "      output = model(input_sentence, target_sentence, 0) #turn off teacher forcing\n",
        "      output_dim = output.shape[2]\n",
        "      output = output[1:].reshape(-1, output_dim)\n",
        "      \n",
        "      \n",
        "      target_sentence = target_sentence[1:].reshape(-1)\n",
        "      loss = criterion(output, target_sentence)\n",
        "      # print(\" o:\",output.shape,\"t:\",target_sentence.shape)\n",
        "      epoch_loss += loss.item()\n",
        "      del target_sentence,output,input_sentence\n",
        "  return epoch_loss / len(iterator)"
      ],
      "execution_count": 23,
      "outputs": []
    },
    {
      "cell_type": "code",
      "metadata": {
        "id": "YwwiGBfU9nio"
      },
      "source": [
        "\n",
        "# evaluate(model,test_iterator,criterion)"
      ],
      "execution_count": null,
      "outputs": []
    },
    {
      "cell_type": "code",
      "metadata": {
        "id": "a9P9aUnZFBux"
      },
      "source": [
        "# defining path to store the model in different epochs\n",
        "path = \"/content/gdrive/MyDrive/Unsupervised learning encoder/final_phase.pth\"\n",
        "path5 = \"/content/gdrive/MyDrive/Unsupervised learning encoder/epoch5.pth\"\n",
        "path10 = \"/content/gdrive/MyDrive/Unsupervised learning encoder/epoch10.pth\"\n",
        "path15 = \"/content/gdrive/MyDrive/Unsupervised learning encoder/epoch15.pth\"\n",
        "path20 = \"/content/gdrive/MyDrive/Unsupervised learning encoder/epoch20.pth\"\n",
        "path25 = \"/content/gdrive/MyDrive/Unsupervised learning encoder/epoch25.pth\"\n",
        "path30 = \"/content/gdrive/MyDrive/Unsupervised learning encoder/epoch30.pth\"\n",
        "path35 = \"/content/gdrive/MyDrive/Unsupervised learning encoder/epoch35.pth\""
      ],
      "execution_count": null,
      "outputs": []
    },
    {
      "cell_type": "code",
      "metadata": {
        "id": "TgVdm_dLtspZ",
        "colab": {
          "base_uri": "https://localhost:8080/"
        },
        "outputId": "ea0195a1-c01d-4597-a718-236f3770aaa2"
      },
      "source": [
        "num_layers=1\n",
        "encoder = Encoder(input_size,embedding_size, hidden_size, dropout).to(device)\n",
        "decoder = Decoder(embedding_size, hidden_size, output_size, num_layers, dropout).to(device)\n",
        "\n",
        "# model = seq2seq(encoder, decoder, device).to(device)"
      ],
      "execution_count": null,
      "outputs": [
        {
          "output_type": "stream",
          "text": [
            "/usr/local/lib/python3.7/dist-packages/torch/nn/modules/rnn.py:63: UserWarning: dropout option adds dropout after all but last recurrent layer, so non-zero dropout expects num_layers greater than 1, but got dropout=0.5 and num_layers=1\n",
            "  \"num_layers={}\".format(dropout, num_layers))\n"
          ],
          "name": "stderr"
        }
      ]
    },
    {
      "cell_type": "code",
      "metadata": {
        "id": "M6aoz8ESw_xE"
      },
      "source": [
        "pad_index = E_word2index['<pad>'] #finding the index of token <pad> in english vocabulary\n",
        "criterion = nn.CrossEntropyLoss(ignore_index = pad_index) #padding token is being ignored while loss computation because we don't want to pay price for <pad> token\n",
        "optimizer = optim.AdamW(model.parameters(), lr=learning_rate) # AdamW optimizer is used \n",
        "step = 0"
      ],
      "execution_count": null,
      "outputs": []
    },
    {
      "cell_type": "markdown",
      "metadata": {
        "id": "8d9OSyYSKpk7"
      },
      "source": [
        "Initialising the weights of the model using Normal distribution with mean 0 and standard deviation 0.01."
      ]
    },
    {
      "cell_type": "code",
      "metadata": {
        "id": "uUzMf8ZILiqb",
        "colab": {
          "base_uri": "https://localhost:8080/"
        },
        "outputId": "4b684a32-7dff-4650-a359-5d86364eebe0"
      },
      "source": [
        "def init_weights(model):\n",
        "    for name, parameter in model.named_parameters():\n",
        "        if 'weight' in name:\n",
        "            nn.init.normal_(parameter.data, mean=0, std=0.01)\n",
        "        else:\n",
        "            nn.init.constant_(parameter.data, 0)\n",
        "            \n",
        "model.apply(init_weights)"
      ],
      "execution_count": null,
      "outputs": [
        {
          "output_type": "execute_result",
          "data": {
            "text/plain": [
              "seq2seq(\n",
              "  (encoder): Encoder(\n",
              "    (dropout): Dropout(p=0.5, inplace=False)\n",
              "    (embedding): Embedding(26630, 100)\n",
              "    (lstm): LSTM(100, 100, bidirectional=True)\n",
              "    (linear_hidden): Linear(in_features=200, out_features=100, bias=True)\n",
              "    (linear_cell): Linear(in_features=200, out_features=100, bias=True)\n",
              "  )\n",
              "  (decoder): Decoder(\n",
              "    (dropout): Dropout(p=0.5, inplace=False)\n",
              "    (embedding): Embedding(26630, 100)\n",
              "    (lstm): LSTM(100, 100, dropout=0.5)\n",
              "    (linear_decoder): Linear(in_features=100, out_features=26630, bias=True)\n",
              "  )\n",
              ")"
            ]
          },
          "metadata": {
            "tags": []
          },
          "execution_count": 31
        }
      ]
    },
    {
      "cell_type": "markdown",
      "metadata": {
        "id": "U2YoH5S_q_NX"
      },
      "source": [
        "The model is stored after every 5 epochs and then prediction on validation set is generated from these models. "
      ]
    },
    {
      "cell_type": "code",
      "metadata": {
        "id": "VswcYwQ4Clrq"
      },
      "source": [
        "train_loss={}\n",
        "validation_loss={}"
      ],
      "execution_count": null,
      "outputs": []
    },
    {
      "cell_type": "code",
      "metadata": {
        "colab": {
          "base_uri": "https://localhost:8080/"
        },
        "id": "qh_LXPFTfD1H",
        "outputId": "2e7fa689-c83c-42b1-bd49-d4eb15b885f9"
      },
      "source": [
        "for epoch in range(1,epochs+1):\n",
        "    epoch_loss=0\n",
        "    print(f\"[Epoch {epoch} / {epochs}]\")\n",
        "    model.eval()\n",
        "    model.train()\n",
        "    i=0\n",
        "    for id, (x,y) in enumerate(train_iterator):   # iterating over batches of train_iterator\n",
        "      input_sentence = x.long()\n",
        "      target_sentence = y.long()\n",
        "\n",
        "      # input_sentence and target_sentence have shape = (batch_size, maximum length) but we need shape to be (maximum length, batch_size ) so they are transposed\n",
        "      input_sentence=torch.transpose(input_sentence, 0, 1).to(device)\n",
        "      target_sentence=torch.transpose(target_sentence, 0, 1).to(device)\n",
        "    \n",
        "      output = model(input_sentence, target_sentence) #forward propagation\n",
        "      output = output[1:].view(-1, output.shape[-1]) #removing the start token from model's prediction and reshaping it to make it make it fit for input to loss function\n",
        "      \n",
        "      target_sentence = target_sentence[1:].reshape(-1) #removing the start token from actual target translation\n",
        "      optimizer.zero_grad() \n",
        "      loss = criterion(output, target_sentence)\n",
        "    \n",
        "      loss.backward() #backward propagation\n",
        "      torch.nn.utils.clip_grad_norm_(model.parameters(), max_norm=1) # clipping the gradients to keep them in reasonable range\n",
        "      optimizer.step() #gradient descent. The optimizer iterates over all parameters (tensors) to be updated and their internally stored gradients are used.\n",
        "      del target_sentence,output,input_sentence\n",
        "      step += 1\n",
        "      epoch_loss+=loss.item() # adding the epoch loss for each batch\n",
        "    if(epoch==5): # saving the model after every 5 epochs \n",
        "      torch.save(model,path5)\n",
        "    elif(epoch==10):\n",
        "      torch.save(model,path10)\n",
        "    elif(epoch==15):\n",
        "      torch.save(model,path15)\n",
        "    elif(epoch==20):\n",
        "      torch.save(model,path20)\n",
        "    elif(epoch==25):\n",
        "      torch.save(model,path25)\n",
        "    elif(epoch==30):\n",
        "      torch.save(model,path30)\n",
        "    elif(epoch==35):\n",
        "      torch.save(model,path35)    \n",
        "\n",
        "    val_loss=evaluate(model, test_iterator, criterion)\n",
        "    train_loss[epoch]=epoch_loss/len(train_iterator)\n",
        "    validation_loss[epoch]=val_loss\n",
        "    print(\"Train loss : \", epoch_loss/len(train_iterator))\n",
        "    print(\"Validation loss : \", val_loss)"
      ],
      "execution_count": null,
      "outputs": [
        {
          "output_type": "stream",
          "text": [
            "[Epoch 1 / 35]\n",
            "Train loss :  5.562154792168166\n",
            "Validation loss :  6.09140648419344\n",
            "[Epoch 2 / 35]\n",
            "Train loss :  4.7516379118613985\n",
            "Validation loss :  6.1825319181514695\n",
            "[Epoch 3 / 35]\n",
            "Train loss :  4.220394510797255\n",
            "Validation loss :  6.509695493722264\n",
            "[Epoch 4 / 35]\n",
            "Train loss :  3.5697066026834516\n",
            "Validation loss :  4.986676590352118\n",
            "[Epoch 5 / 35]\n",
            "Train loss :  2.953568760012482\n",
            "Validation loss :  4.27609068834329\n",
            "[Epoch 6 / 35]\n",
            "Train loss :  2.5031863510494268\n",
            "Validation loss :  3.7387991042076787\n",
            "[Epoch 7 / 35]\n",
            "Train loss :  2.1731341021830812\n",
            "Validation loss :  3.5221651656718196\n",
            "[Epoch 8 / 35]\n",
            "Train loss :  1.9183806344480638\n",
            "Validation loss :  3.310403534128696\n",
            "[Epoch 9 / 35]\n",
            "Train loss :  1.706978832007763\n",
            "Validation loss :  3.14088642144505\n",
            "[Epoch 10 / 35]\n",
            "Train loss :  1.5323518751980967\n",
            "Validation loss :  2.9639221625992014\n",
            "[Epoch 11 / 35]\n",
            "Train loss :  1.391983035066169\n",
            "Validation loss :  2.83123287671729\n",
            "[Epoch 12 / 35]\n",
            "Train loss :  1.2723543482594977\n",
            "Validation loss :  2.6828100470047964\n",
            "[Epoch 13 / 35]\n",
            "Train loss :  1.1692404377822905\n",
            "Validation loss :  2.6037960746620277\n",
            "[Epoch 14 / 35]\n",
            "Train loss :  1.0792919458432695\n",
            "Validation loss :  2.4581954630115366\n",
            "[Epoch 15 / 35]\n",
            "Train loss :  1.0002259467313106\n",
            "Validation loss :  2.4000246419182307\n",
            "[Epoch 16 / 35]\n",
            "Train loss :  0.9322131267207271\n",
            "Validation loss :  2.324392682389368\n",
            "[Epoch 17 / 35]\n",
            "Train loss :  0.869726107579607\n",
            "Validation loss :  2.2317443120328684\n",
            "[Epoch 18 / 35]\n",
            "Train loss :  0.8176797494207704\n",
            "Validation loss :  2.226858116403411\n",
            "[Epoch 19 / 35]\n",
            "Train loss :  0.768490484780866\n",
            "Validation loss :  2.1281273455559453\n",
            "[Epoch 20 / 35]\n",
            "Train loss :  0.6857767658617686\n",
            "Validation loss :  2.062556980531427\n",
            "[Epoch 22 / 35]\n",
            "Train loss :  0.6503441429579798\n",
            "Validation loss :  1.9959844758238974\n",
            "[Epoch 23 / 35]\n",
            "Train loss :  0.6165179378207893\n",
            "Validation loss :  1.9326340397701989\n",
            "[Epoch 24 / 35]\n",
            "Train loss :  0.5844415983916762\n",
            "Validation loss :  1.9041348831563056\n",
            "[Epoch 25 / 35]\n",
            "Train loss :  0.557295145354172\n",
            "Validation loss :  1.8895880436595482\n",
            "[Epoch 26 / 35]\n",
            "Train loss :  0.5309809055616125\n",
            "Validation loss :  1.834875554978093\n",
            "[Epoch 27 / 35]\n",
            "Train loss :  0.5059524778831126\n",
            "Validation loss :  1.7707756003247033\n",
            "[Epoch 28 / 35]\n",
            "Train loss :  0.48227554678593787\n",
            "Validation loss :  1.7288600447811657\n",
            "[Epoch 29 / 35]\n",
            "Train loss :  0.4613573729837151\n",
            "Validation loss :  1.7201242597797248\n",
            "[Epoch 30 / 35]\n",
            "Train loss :  0.4430226338599526\n",
            "Validation loss :  1.6595855257179164\n",
            "[Epoch 31 / 35]\n",
            "Train loss :  0.42273892466283974\n",
            "Validation loss :  1.6391344447679157\n",
            "[Epoch 32 / 35]\n",
            "Train loss :  0.40802434788996333\n",
            "Validation loss :  1.6009382703636266\n",
            "[Epoch 33 / 35]\n",
            "Train loss :  0.3909562940971856\n",
            "Validation loss :  1.5878406823435915\n",
            "[Epoch 34 / 35]\n",
            "Train loss :  0.37611381825165624\n",
            "Validation loss :  1.5498993849452538\n",
            "[Epoch 35 / 35]\n",
            "Train loss :  0.3624377516162631\n",
            "Validation loss :  1.54978201510031\n"
          ],
          "name": "stdout"
        }
      ]
    },
    {
      "cell_type": "markdown",
      "metadata": {
        "id": "c2UaEdvCOw71"
      },
      "source": [
        "# **PART A :Training loss per epoch and validation loss per epoch**"
      ]
    },
    {
      "cell_type": "code",
      "metadata": {
        "colab": {
          "base_uri": "https://localhost:8080/",
          "height": 282
        },
        "id": "nLe6Rfe9D4Nc",
        "outputId": "073c1184-f724-4c15-9c86-acea9d20fddb"
      },
      "source": [
        "#plot for training loss per epoch \n",
        "import matplotlib.pyplot as plt\n",
        "\n",
        "plt.plot(range(epochs),train_lossloss)"
      ],
      "execution_count": null,
      "outputs": [
        {
          "output_type": "execute_result",
          "data": {
            "text/plain": [
              "[<matplotlib.lines.Line2D at 0x7f68b8e74290>]"
            ]
          },
          "metadata": {
            "tags": []
          },
          "execution_count": 66
        },
        {
          "output_type": "display_data",
          "data": {
            "image/png": "[encoded data removed]",
            "text/plain": [
              "<Figure size 432x288 with 1 Axes>"
            ]
          },
          "metadata": {
            "tags": [],
            "needs_background": "light"
          }
        }
      ]
    },
    {
      "cell_type": "code",
      "metadata": {
        "colab": {
          "base_uri": "https://localhost:8080/",
          "height": 282
        },
        "id": "HouI8Q_qR34t",
        "outputId": "4aec0a2f-023f-4efa-98af-924c85eb5c97"
      },
      "source": [
        "#validation loss per epoch plot\n",
        "import matplotlib.pyplot as plt\n",
        "\n",
        "plt.plot(range(epochs),validation_loss)"
      ],
      "execution_count": null,
      "outputs": [
        {
          "output_type": "execute_result",
          "data": {
            "text/plain": [
              "[<matplotlib.lines.Line2D at 0x7f3770145950>]"
            ]
          },
          "metadata": {
            "tags": []
          },
          "execution_count": 8
        },
        {
          "output_type": "display_data",
          "data": {
            "image/png": "[encoded data removed]",
            "text/plain": [
              "<Figure size 432x288 with 1 Axes>"
            ]
          },
          "metadata": {
            "tags": [],
            "needs_background": "light"
          }
        }
      ]
    },
    {
      "cell_type": "code",
      "metadata": {
        "id": "ZUzX_lk0CZ2q"
      },
      "source": [
        "\n",
        "model.eval()"
      ],
      "execution_count": null,
      "outputs": []
    },
    {
      "cell_type": "code",
      "metadata": {
        "id": "4J9NDQggR2qW"
      },
      "source": [
        ""
      ],
      "execution_count": null,
      "outputs": []
    },
    {
      "cell_type": "code",
      "metadata": {
        "id": "sj4bnTyUuxlF"
      },
      "source": [
        "model = torch.load(\"/content/gdrive/MyDrive/Unsupervised learning encoder/epoch35.pth\") #loading the model"
      ],
      "execution_count": null,
      "outputs": []
    },
    {
      "cell_type": "code",
      "metadata": {
        "colab": {
          "base_uri": "https://localhost:8080/"
        },
        "id": "nMr1UnM9IYOA",
        "outputId": "3b9aed4a-8a8b-48c0-f6ab-c1ab7e474796"
      },
      "source": [
        "model.eval()"
      ],
      "execution_count": null,
      "outputs": [
        {
          "output_type": "execute_result",
          "data": {
            "text/plain": [
              "seq2seq(\n",
              "  (encoder): Encoder(\n",
              "    (dropout): Dropout(p=0.5, inplace=False)\n",
              "    (embedding): Embedding(26630, 100)\n",
              "    (lstm): LSTM(100, 100, bidirectional=True)\n",
              "    (linear_hidden): Linear(in_features=200, out_features=100, bias=True)\n",
              "    (linear_cell): Linear(in_features=200, out_features=100, bias=True)\n",
              "  )\n",
              "  (decoder): Decoder(\n",
              "    (dropout): Dropout(p=0.5, inplace=False)\n",
              "    (embedding): Embedding(26630, 100)\n",
              "    (lstm): LSTM(100, 100, dropout=0.5)\n",
              "    (linear_decoder): Linear(in_features=100, out_features=26630, bias=True)\n",
              "  )\n",
              ")"
            ]
          },
          "metadata": {
            "tags": []
          },
          "execution_count": 29
        }
      ]
    },
    {
      "cell_type": "markdown",
      "metadata": {
        "id": "WHQtprsSPhBd"
      },
      "source": [
        ""
      ]
    },
    {
      "cell_type": "markdown",
      "metadata": {
        "id": "yVAmX8xVNwEX"
      },
      "source": [
        "# **Part B: testing the model (BLEU Score and Constructionloss)**"
      ]
    },
    {
      "cell_type": "code",
      "metadata": {
        "id": "-7WZ3950Id-O"
      },
      "source": [
        "test_ds=[]\n",
        "with open('/content/gdrive/MyDrive/Unsupervised learning encoder/test.txt', 'r') as f: #reading the train.csv file\n",
        "    csv_reader = csv.reader(f, delimiter=',')\n",
        "    for row in csv_reader:\n",
        "      if(len(row[0])>0):\n",
        "        test_ds.append([row[0]])\n"
      ],
      "execution_count": 24,
      "outputs": []
    },
    {
      "cell_type": "code",
      "metadata": {
        "colab": {
          "base_uri": "https://localhost:8080/"
        },
        "id": "WdOb78mYPKSl",
        "outputId": "79a5a398-93ac-4579-9c64-9813c00a427d"
      },
      "source": [
        "len(test_ds)"
      ],
      "execution_count": 25,
      "outputs": [
        {
          "output_type": "execute_result",
          "data": {
            "text/plain": [
              "10000"
            ]
          },
          "metadata": {
            "tags": []
          },
          "execution_count": 25
        }
      ]
    },
    {
      "cell_type": "code",
      "metadata": {
        "id": "WV2z8YA_PT7z"
      },
      "source": [
        "\n",
        "max_length_test1={} # stores maximum length of sentences in test/validation data\n",
        "batch_id=1\n",
        "# computing maximum length for each batch of validation data\n",
        "for i in range(0,len(test_ds),batch_size):\n",
        "  max_len=0\n",
        "  for pair in test_ds[i:i+batch_size]:\n",
        "    E_maxlength=0\n",
        "    for token in english_tokenizer(pair[0]):\n",
        "      E_maxlength+=1\n",
        "    max_len=max(max_len,E_maxlength )\n",
        "  max_length_test1[batch_id]=max_len+2\n",
        "  batch_id+=1  "
      ],
      "execution_count": 26,
      "outputs": []
    },
    {
      "cell_type": "code",
      "metadata": {
        "id": "y6niShu-P0mq"
      },
      "source": [
        "test1_tensor=[]\n",
        "batch_id=1\n",
        "for i in range(0,len(test_ds),batch_size):\n",
        "  max_len=max_length_test1[batch_id]\n",
        "  for pair in test_ds[i:i+batch_size]:\n",
        "    source_tensor=E_sentenceToTensor(pair[0],max_len)\n",
        "    target_tensor=E_sentenceToTensor(pair[0],max_len)\n",
        "    test1_tensor.append([source_tensor, target_tensor])\n",
        "  batch_id+=1"
      ],
      "execution_count": 27,
      "outputs": []
    },
    {
      "cell_type": "code",
      "metadata": {
        "id": "nrt_GJ4LQ7Up"
      },
      "source": [
        "test1_iterator = DataLoader(test1_tensor, batch_size=batch_size,shuffle=False)\n",
        "# test_iterator=DataLoader(test_tensor, batch_size=batch_size,shuffle=False)\n"
      ],
      "execution_count": 28,
      "outputs": []
    },
    {
      "cell_type": "code",
      "metadata": {
        "colab": {
          "base_uri": "https://localhost:8080/"
        },
        "id": "kVzEqysUTsSA",
        "outputId": "bfef3b88-7688-449a-e8d9-fb8acce9547b"
      },
      "source": [
        "print(test1_iterator)"
      ],
      "execution_count": null,
      "outputs": [
        {
          "output_type": "stream",
          "text": [
            "<torch.utils.data.dataloader.DataLoader object at 0x7f2dbc8a2cd0>\n"
          ],
          "name": "stdout"
        }
      ]
    },
    {
      "cell_type": "code",
      "metadata": {
        "id": "rkJV7qJbRBZW"
      },
      "source": [
        "test1_loss=evaluate(model, test1_iterator, criterion)"
      ],
      "execution_count": null,
      "outputs": []
    },
    {
      "cell_type": "code",
      "metadata": {
        "id": "-gaZI-L7SJmj"
      },
      "source": [
        "# train_loss=evaluate(model, train_iterator, criterion)\n"
      ],
      "execution_count": null,
      "outputs": []
    },
    {
      "cell_type": "code",
      "metadata": {
        "colab": {
          "base_uri": "https://localhost:8080/"
        },
        "id": "uvGkSL7vT0kA",
        "outputId": "4b932bce-32ec-446e-b0c1-2a245cf780b8"
      },
      "source": [
        "print(\"test construction loss :\",test1_loss)\n"
      ],
      "execution_count": null,
      "outputs": [
        {
          "output_type": "stream",
          "text": [
            "test construction loss 1.5028739171692087\n"
          ],
          "name": "stdout"
        }
      ]
    },
    {
      "cell_type": "code",
      "metadata": {
        "id": "3wUQxdF_3SHu"
      },
      "source": [
        ""
      ],
      "execution_count": null,
      "outputs": []
    },
    {
      "cell_type": "markdown",
      "metadata": {
        "id": "7mMMwNRD3S1I"
      },
      "source": [
        "# **BLEU score**"
      ]
    },
    {
      "cell_type": "code",
      "metadata": {
        "id": "m1o0Q_lpiXyc"
      },
      "source": [
        "def predictions(model, device, num_vec, max_length=70):\n",
        "    i_tensor = torch.LongTensor(num_vec).unsqueeze(1).to(device)\n",
        "    with torch.no_grad():\n",
        "        hidden,cell = model.encoder(i_tensor)\n",
        "    o_num_vec = [E_word2index[\"<sos>\"]] # adding index for <sos> token\n",
        "    eos_idx=E_word2index[\"<eos>\"] # adding index for <eos> token\n",
        "    for _ in range(max_length):\n",
        "        curr_input = torch.LongTensor([o_num_vec[-1]]).to(device)\n",
        "        with torch.no_grad():\n",
        "            output, hidden,cell = model.decoder(curr_input,hidden,cell)\n",
        "            curr_output = output.argmax(1).item()\n",
        "        o_num_vec.append(curr_output) # appending the prediction in english index vector\n",
        "        if (curr_output == eos_idx): # stop generating predictions once eos token is encountered\n",
        "            break\n",
        "    return o_num_vec"
      ],
      "execution_count": null,
      "outputs": []
    },
    {
      "cell_type": "code",
      "metadata": {
        "id": "KGjcSAg_N1WH"
      },
      "source": [
        "pred_data=[]\n",
        "test_data=[]\n",
        "file=open(\"/content/gdrive/MyDrive/Unsupervised learning encoder/test.txt\")\n",
        "for row in file:\n",
        "\n",
        "    sentence_token=[]\n",
        "\n",
        "    for t in english_tokenizer(row):\n",
        "        sentence_token.append(t)\n",
        "    s=[]\n",
        "    for i in sentence_token:\n",
        "      s.append(i)\n",
        "    test_data.append(s)\n",
        "  \n",
        "    sentence_token.insert(0,'<sos>') # append <sos> token\n",
        "    sentence_token.append('<eos>') # append <eos> token\n",
        "    num_vec = []\n",
        "\n",
        "    for t in sentence_token:\n",
        "      num_vec.append(E_word2index.get(t,2))\n",
        "    o = predictions(model, device, num_vec, max_length=70)\n",
        "    t=[]\n",
        "    for i in o:\n",
        "      if(i!=E_word2index['<sos>'] and i!=E_word2index['<eos>']):\n",
        "        t.append(E_index2word[i])\n",
        "    pred_data.append(t)\n",
        "\n",
        "#pred_data contains the output of autoencoder for each sentence \n",
        "#test_data cotains our actual sentence"
      ],
      "execution_count": null,
      "outputs": []
    },
    {
      "cell_type": "code",
      "metadata": {
        "colab": {
          "base_uri": "https://localhost:8080/"
        },
        "id": "THFes7Y_6Wbv",
        "outputId": "fe0045c9-dec0-48a9-f8c4-23ab15cddcac"
      },
      "source": [
        "pred_data[0]"
      ],
      "execution_count": null,
      "outputs": [
        {
          "output_type": "execute_result",
          "data": {
            "text/plain": [
              "['husband', \"'s\", 'the', 'thin', 'crust', 'pizza']"
            ]
          },
          "metadata": {
            "tags": []
          },
          "execution_count": 51
        }
      ]
    },
    {
      "cell_type": "code",
      "metadata": {
        "colab": {
          "base_uri": "https://localhost:8080/"
        },
        "id": "QCOyubmi641G",
        "outputId": "38ee4d8f-9943-4690-eafb-6c4c5062d6d2"
      },
      "source": [
        "test_data[0]"
      ],
      "execution_count": null,
      "outputs": [
        {
          "output_type": "execute_result",
          "data": {
            "text/plain": [
              "['husband', 'loves', 'the', 'thin', 'crust', 'pizza']"
            ]
          },
          "metadata": {
            "tags": []
          },
          "execution_count": 49
        }
      ]
    },
    {
      "cell_type": "code",
      "metadata": {
        "colab": {
          "base_uri": "https://localhost:8080/"
        },
        "id": "_tWMrn_V-fVH",
        "outputId": "5de9dd58-265f-44d3-d30e-b666a50175a8"
      },
      "source": [
        "from nltk.translate.bleu_score import sentence_bleu\n",
        "bleu=0\n",
        "for i in range(len(test_data)): \n",
        "  bleu=bleu+sentence_bleu([test_data[i]],pred_data[i])\n",
        "print(\"bleu score :\",bleu/len(test_data))"
      ],
      "execution_count": null,
      "outputs": [
        {
          "output_type": "stream",
          "text": [
            "/usr/local/lib/python3.7/dist-packages/nltk/translate/bleu_score.py:490: UserWarning: \n",
            "Corpus/Sentence contains 0 counts of 4-gram overlaps.\n",
            "BLEU scores might be undesirable; use SmoothingFunction().\n",
            "  warnings.warn(_msg)\n",
            "/usr/local/lib/python3.7/dist-packages/nltk/translate/bleu_score.py:490: UserWarning: \n",
            "Corpus/Sentence contains 0 counts of 2-gram overlaps.\n",
            "BLEU scores might be undesirable; use SmoothingFunction().\n",
            "  warnings.warn(_msg)\n",
            "/usr/local/lib/python3.7/dist-packages/nltk/translate/bleu_score.py:490: UserWarning: \n",
            "Corpus/Sentence contains 0 counts of 3-gram overlaps.\n",
            "BLEU scores might be undesirable; use SmoothingFunction().\n",
            "  warnings.warn(_msg)\n"
          ],
          "name": "stderr"
        },
        {
          "output_type": "stream",
          "text": [
            "bleu score : 0.5903284119197079\n"
          ],
          "name": "stdout"
        }
      ]
    },
    {
      "cell_type": "markdown",
      "metadata": {
        "id": "ILI5NR2fTGXk"
      },
      "source": [
        "# **Part C:  effect of Teacher Forcing(value = 1.0)**"
      ]
    },
    {
      "cell_type": "code",
      "metadata": {
        "id": "reWO8WonTMnc"
      },
      "source": [
        "path = \"/content/gdrive/MyDrive/Unsupervised learning encoder/Tfinal_phase.pth\"\n",
        "path5 = \"/content/gdrive/MyDrive/Unsupervised learning encoder/Tepoch5.pth\"\n",
        "path10 = \"/content/gdrive/MyDrive/Unsupervised learning encoder/Tepoch10.pth\"\n",
        "path15 = \"/content/gdrive/MyDrive/Unsupervised learning encoder/Tepoch15.pth\"\n",
        "path20 = \"/content/gdrive/MyDrive/Unsupervised learning encoder/Tepoch20.pth\"\n",
        "path25 = \"/content/gdrive/MyDrive/Unsupervised learning encoder/Tepoch25.pth\"\n",
        "path30 = \"/content/gdrive/MyDrive/Unsupervised learning encoder/Tepoch30.pth\"\n",
        "path35 = \"/content/gdrive/MyDrive/Unsupervised learning encoder/Tepoch35.pth\""
      ],
      "execution_count": 29,
      "outputs": []
    },
    {
      "cell_type": "code",
      "metadata": {
        "colab": {
          "base_uri": "https://localhost:8080/"
        },
        "id": "_B7b4d_cUVTS",
        "outputId": "301b4ecb-3fe9-4f2f-f8df-ab0e773167c0"
      },
      "source": [
        "num_layers=1\n",
        "encoder1 = Encoder(input_size,embedding_size, hidden_size, dropout).to(device)\n",
        "decoder1 = Decoder(embedding_size, hidden_size, output_size, num_layers, dropout).to(device)\n",
        "\n",
        "model2 = seq2seq(encoder1, decoder1, device).to(device)"
      ],
      "execution_count": null,
      "outputs": [
        {
          "output_type": "stream",
          "text": [
            "/usr/local/lib/python3.7/dist-packages/torch/nn/modules/rnn.py:63: UserWarning: dropout option adds dropout after all but last recurrent layer, so non-zero dropout expects num_layers greater than 1, but got dropout=0.5 and num_layers=1\n",
            "  \"num_layers={}\".format(dropout, num_layers))\n"
          ],
          "name": "stderr"
        }
      ]
    },
    {
      "cell_type": "code",
      "metadata": {
        "id": "LuGiDeI_XPWm"
      },
      "source": [
        "pad_index = E_word2index['<pad>'] #finding the index of token <pad> in english vocabulary\n",
        "criterion = nn.CrossEntropyLoss(ignore_index = pad_index) #padding token is being ignored while loss computation because we don't want to pay price for <pad> token\n",
        "optimizer = optim.AdamW(model2.parameters(), lr=learning_rate) # AdamW optimizer is used \n",
        "step = 0"
      ],
      "execution_count": 30,
      "outputs": []
    },
    {
      "cell_type": "code",
      "metadata": {
        "colab": {
          "base_uri": "https://localhost:8080/"
        },
        "id": "VHtt5khGXWgS",
        "outputId": "082db45b-c6c9-47de-f747-aa6a486d1eec"
      },
      "source": [
        "\n",
        "print(\" USING TEACHER FORING VALUE 1.0\")\n",
        "print(\"---------------------------------------------------------\")\n",
        "print(\" \")\n",
        "epochs=35\n",
        "train_loss_T={}\n",
        "validation_loss_T={}\n",
        "for epoch in range(1,epochs+1):\n",
        "    epoch_loss=0\n",
        "    print(f\"[Epoch {epoch} / {epochs}]\")\n",
        "    model2.eval()\n",
        "    model2.train()\n",
        "    i=0\n",
        "    for id, (x,y) in enumerate(train_iterator):   # iterating over batches of train_iterator\n",
        "      input_sentence = x.long()\n",
        "      target_sentence = y.long()\n",
        "\n",
        "\n",
        "      # input_sentence and target_sentence have shape = (batch_size, maximum length) but we need shape to be (maximum length, batch_size ) so they are transposed\n",
        "      input_sentence=torch.transpose(input_sentence, 0, 1).to(device)\n",
        "      target_sentence=torch.transpose(target_sentence, 0, 1).to(device)\n",
        "    \n",
        "      output = model2(input_sentence, target_sentence,1) #forward propagation ,here we are passing TEACHER FORCING VALUE =1\n",
        "      output = output[1:].view(-1, output.shape[-1]) #removing the start token from model's prediction and reshaping it to make it make it fit for input to loss function\n",
        "      \n",
        "      target_sentence = target_sentence[1:].reshape(-1) #removing the start token from actual target translation\n",
        "      optimizer.zero_grad() \n",
        "      loss = criterion(output, target_sentence)\n",
        "    \n",
        "      loss.backward() #backward propagation\n",
        "      torch.nn.utils.clip_grad_norm_(model2.parameters(), max_norm=1) # clipping the gradients to keep them in reasonable range\n",
        "      optimizer.step() #gradient descent. The optimizer iterates over all parameters (tensors) to be updated and their internally stored gradients are used.\n",
        "      del target_sentence,output,input_sentence\n",
        "      step += 1\n",
        "      epoch_loss+=loss.item() # adding the epoch loss for each batch\n",
        "    if(epoch==5): # saving the model after every 5 epochs \n",
        "      torch.save(model2,path5)\n",
        "    elif(epoch==10):\n",
        "      torch.save(model2,path10)\n",
        "    elif(epoch==15):\n",
        "      torch.save(model2,path15)\n",
        "    elif(epoch==20):\n",
        "      torch.save(model2,path20)\n",
        "    elif(epoch==25):\n",
        "      torch.save(model2,path25)\n",
        "    elif(epoch==30):\n",
        "      torch.save(model2,path30)\n",
        "    elif(epoch==35):\n",
        "      torch.save(model2,path35)    \n",
        "\n",
        "    val_loss=evaluate(model2, test_iterator, criterion)\n",
        "    train_loss_T[epoch]=epoch_loss/len(train_iterator)\n",
        "    validation_loss_T[epoch]=val_loss\n",
        "    print(\"Train loss : \", epoch_loss/len(train_iterator))\n",
        "    print(\"Validation loss : \", val_loss)\n"
      ],
      "execution_count": null,
      "outputs": [
        {
          "output_type": "stream",
          "text": [
            " USING TEACHER FORING VALUE 1.0\n",
            "---------------------------------------------------------\n",
            " \n",
            "[Epoch 1 / 35]\n",
            "Train loss :  2.4727652980966113\n",
            "Validation loss :  4.837183922151976\n",
            "[Epoch 2 / 35]\n",
            "Train loss :  2.2452922065070338\n",
            "Validation loss :  4.452825250504892\n",
            "[Epoch 3 / 35]\n",
            "Train loss :  2.055819299366659\n",
            "Validation loss :  4.249923531013199\n",
            "[Epoch 4 / 35]\n",
            "Train loss :  1.8977678258536612\n",
            "Validation loss :  4.150815200202072\n",
            "[Epoch 5 / 35]\n",
            "Train loss :  1.7674802461737102\n",
            "Validation loss :  3.982766676552688\n",
            "[Epoch 6 / 35]\n",
            "Train loss :  1.6534349877490517\n",
            "Validation loss :  3.856082116501241\n",
            "[Epoch 7 / 35]\n",
            "Train loss :  1.5550754124691994\n",
            "Validation loss :  3.735140586201149\n",
            "[Epoch 8 / 35]\n",
            "Train loss :  1.4679421268285513\n",
            "Validation loss :  3.6411471940294096\n",
            "[Epoch 9 / 35]\n",
            "Train loss :  1.388859811215222\n",
            "Validation loss :  3.4890904969806913\n",
            "[Epoch 10 / 35]\n",
            "Train loss :  1.3177181912970384\n",
            "Validation loss :  3.4689025637469713\n",
            "[Epoch 11 / 35]\n",
            "Train loss :  1.2539308722122222\n",
            "Validation loss :  3.343055839780011\n",
            "[Epoch 12 / 35]\n",
            "Train loss :  1.1956325034682411\n",
            "Validation loss :  3.27493234525753\n",
            "[Epoch 13 / 35]\n",
            "Train loss :  1.142266701840016\n",
            "Validation loss :  3.205867610400236\n",
            "[Epoch 14 / 35]\n",
            "Train loss :  1.0928670585300484\n",
            "Validation loss :  3.1534338480309594\n",
            "[Epoch 15 / 35]\n",
            "Train loss :  1.047188643066597\n",
            "Validation loss :  3.109915688068052\n",
            "[Epoch 16 / 35]\n",
            "Train loss :  1.0055486448431517\n",
            "Validation loss :  3.0449148371249817\n",
            "[Epoch 17 / 35]\n",
            "Train loss :  0.9652429747735078\n",
            "Validation loss :  2.964184996447986\n",
            "[Epoch 18 / 35]\n",
            "Train loss :  0.9294870719711961\n",
            "Validation loss :  2.9710203756259967\n",
            "[Epoch 19 / 35]\n",
            "Train loss :  0.895721573885886\n",
            "Validation loss :  2.9164035290102417\n",
            "[Epoch 20 / 35]\n",
            "Train loss :  0.8616297358274402\n",
            "Validation loss :  2.8818168972111957\n",
            "[Epoch 21 / 35]\n",
            "Train loss :  0.8326907365422644\n",
            "Validation loss :  2.8774357023118418\n",
            "[Epoch 22 / 35]\n",
            "Train loss :  0.8038367964994927\n",
            "Validation loss :  2.8062058460863333\n",
            "[Epoch 23 / 35]\n",
            "Train loss :  0.7763807593200618\n",
            "Validation loss :  2.7872225815736793\n",
            "[Epoch 24 / 35]\n",
            "Train loss :  0.7509202899131795\n",
            "Validation loss :  2.717457004740268\n",
            "[Epoch 25 / 35]\n",
            "Train loss :  0.7267851625332759\n",
            "Validation loss :  2.70586341242247\n",
            "[Epoch 26 / 35]\n"
          ],
          "name": "stdout"
        }
      ]
    },
    {
      "cell_type": "code",
      "metadata": {
        "id": "qfW7jllb6kzP",
        "colab": {
          "base_uri": "https://localhost:8080/",
          "height": 282
        },
        "outputId": "dd48e27f-e6e5-4427-ebe4-aeb52cb82a2e"
      },
      "source": [
        "import matplotlib.pyplot as plt\n",
        "plt.plot(range(len(validation_loss_T)),validation_loss_T)"
      ],
      "execution_count": null,
      "outputs": [
        {
          "output_type": "execute_result",
          "data": {
            "text/plain": [
              "[<matplotlib.lines.Line2D at 0x7f3da1f18cd0>]"
            ]
          },
          "metadata": {
            "tags": []
          },
          "execution_count": 74
        },
        {
          "output_type": "display_data",
          "data": {
            "image/png": "[encoded data removed]",
            "text/plain": [
              "<Figure size 432x288 with 1 Axes>"
            ]
          },
          "metadata": {
            "tags": [],
            "needs_background": "light"
          }
        }
      ]
    },
    {
      "cell_type": "code",
      "metadata": {
        "colab": {
          "base_uri": "https://localhost:8080/"
        },
        "id": "VDZZHObtMOaC",
        "outputId": "74261c04-3823-4b98-c225-a869b95ad205"
      },
      "source": [
        "#finding construction loss when teacher forcing is on\n",
        "\n",
        "test1_loss_tf=evaluate(model2, test1_iterator, criterion)\n",
        "print(\"Contruction loss \",test1_loss_tf)"
      ],
      "execution_count": 33,
      "outputs": [
        {
          "output_type": "stream",
          "text": [
            "Contruction loss  2.873520452\n"
          ],
          "name": "stdout"
        }
      ]
    },
    {
      "cell_type": "code",
      "metadata": {
        "id": "YeIZnDtlGqBo"
      },
      "source": [
        "model2=torch.load(path25)"
      ],
      "execution_count": 31,
      "outputs": []
    },
    {
      "cell_type": "markdown",
      "metadata": {
        "id": "pdAvC2dYTa3z"
      },
      "source": [
        "# **Part D :  Use the learned model to generate unsupervised representation on the sentiment analysis dataset inthe yelp folder. Do a dimensionality reduction and visualize it using a 2-D scatter plot along with their labels.**"
      ]
    },
    {
      "cell_type": "code",
      "metadata": {
        "id": "9argEPzRLWXv"
      },
      "source": [
        "#loading the initial model with TF\n",
        "model = torch.load(\"/content/gdrive/MyDrive/Unsupervised learning encoder/epoch35.pth\",map_location=torch.device('cpu')) #loading the model"
      ],
      "execution_count": null,
      "outputs": []
    },
    {
      "cell_type": "code",
      "metadata": {
        "id": "wLiRpO4xjGb8"
      },
      "source": [
        "def encode_sen(model, device, num_vec, max_length=70):\n",
        "    input_tensor = torch.LongTensor(num_vec).unsqueeze(1).to(device)\n",
        "    with torch.no_grad():\n",
        "        hidden, cell = model.encoder(input_tensor)\n",
        "    return  hidden"
      ],
      "execution_count": null,
      "outputs": []
    },
    {
      "cell_type": "markdown",
      "metadata": {
        "id": "j5TwkA-dD3BX"
      },
      "source": [
        "**loading  train data for sentiment analysis and generate unsupervised representation on the sentiment analysis dataset**"
      ]
    },
    {
      "cell_type": "code",
      "metadata": {
        "id": "fHGXLM_PfLqC"
      },
      "source": [
        "\n",
        "file1 = open('/content/gdrive/MyDrive/Unsupervised learning encoder/1000.pos') \n",
        "file2 = open('/content/gdrive/MyDrive/Unsupervised learning encoder/1000.neg') \n",
        "X_pos=[]\n",
        "for row in file1:\n",
        "    sentence_token=[]\n",
        "\n",
        "    for t in english_tokenizer(row):\n",
        "        sentence_token.append(t)\n",
        "  \n",
        "    sentence_token.insert(0,'<sos>') # append <sos> token\n",
        "    sentence_token.append('<eos>') # append <eos> token\n",
        "    num_vec = []\n",
        "\n",
        "    for t in sentence_token:\n",
        "      num_vec.append(E_word2index.get(t,2))\n",
        "    o = encode_sen(model, device, num_vec, max_length=70)\n",
        "    X_pos.append(o.tolist())\n"
      ],
      "execution_count": null,
      "outputs": []
    },
    {
      "cell_type": "code",
      "metadata": {
        "id": "2z_JMmZSUzNf"
      },
      "source": [
        ""
      ],
      "execution_count": null,
      "outputs": []
    },
    {
      "cell_type": "code",
      "metadata": {
        "id": "m2Q4ebjpRoAx"
      },
      "source": [
        "X_neg=[]\n",
        "file2 = open('/content/gdrive/MyDrive/Unsupervised learning encoder/1000.neg') \n",
        "\n",
        "for row in file2:\n",
        "\n",
        "    sentence_token=[]\n",
        "\n",
        "    for t in english_tokenizer(row):\n",
        "        sentence_token.append(t)\n",
        "  \n",
        "    sentence_token.insert(0,'<sos>') # append <sos> token\n",
        "    sentence_token.append('<eos>') # append <eos> token\n",
        "    num_vec = []\n",
        "\n",
        "    for t in sentence_token:\n",
        "      num_vec.append(E_word2index.get(t,2))\n",
        "    o = encode_sen(model, device, num_vec, max_length=70)\n",
        "    X_neg.append(o.tolist())"
      ],
      "execution_count": null,
      "outputs": []
    },
    {
      "cell_type": "code",
      "metadata": {
        "id": "GqFWayuEOg4q"
      },
      "source": [
        "X_pos1=[]\n",
        "for i in range(len(X_pos)):\n",
        "  X_pos1.append(X_pos[i][0][0])"
      ],
      "execution_count": null,
      "outputs": []
    },
    {
      "cell_type": "code",
      "metadata": {
        "id": "lVywT3aaSeCI"
      },
      "source": [
        "X_neg1=[]\n",
        "for i in range(len(X_neg)):\n",
        "  X_neg1.append(X_neg[i][0][0])"
      ],
      "execution_count": null,
      "outputs": []
    },
    {
      "cell_type": "code",
      "metadata": {
        "colab": {
          "base_uri": "https://localhost:8080/"
        },
        "id": "IlTs-igdOdQ3",
        "outputId": "ed1fd4a7-efb4-4a1a-c0f8-a2f5ba27eda3"
      },
      "source": [
        "len(X_neg1)"
      ],
      "execution_count": null,
      "outputs": [
        {
          "output_type": "execute_result",
          "data": {
            "text/plain": [
              "1000"
            ]
          },
          "metadata": {
            "tags": []
          },
          "execution_count": 34
        }
      ]
    },
    {
      "cell_type": "code",
      "metadata": {
        "id": "FCfyo17aTsoc"
      },
      "source": [
        "X_pos_train=np.array(X_pos1)\n",
        "X_neg_train=np.array(X_neg1)"
      ],
      "execution_count": null,
      "outputs": []
    },
    {
      "cell_type": "code",
      "metadata": {
        "id": "Cpwwpl0cVgW-"
      },
      "source": [
        ""
      ],
      "execution_count": null,
      "outputs": []
    },
    {
      "cell_type": "markdown",
      "metadata": {
        "id": "4f8CYUwJJDlN"
      },
      "source": [
        " **Dimensionality Reduction**: PCA on 1000.pos and 1000.neg (training set)"
      ]
    },
    {
      "cell_type": "code",
      "metadata": {
        "colab": {
          "base_uri": "https://localhost:8080/"
        },
        "id": "btQaiDk8JQzl",
        "outputId": "df412fb5-4349-4fb2-8d3f-e9bec786f3a4"
      },
      "source": [
        "from sklearn.decomposition import PCA\n",
        "pca = PCA(n_components=2)\n",
        "X_train=np.concatenate((X_neg_train, X_pos_train), axis=0)\n",
        "pca.fit(X_train)"
      ],
      "execution_count": null,
      "outputs": [
        {
          "output_type": "execute_result",
          "data": {
            "text/plain": [
              "PCA(copy=True, iterated_power='auto', n_components=2, random_state=None,\n",
              "    svd_solver='auto', tol=0.0, whiten=False)"
            ]
          },
          "metadata": {
            "tags": []
          },
          "execution_count": 37
        }
      ]
    },
    {
      "cell_type": "code",
      "metadata": {
        "id": "NdKPNGZ1Kdfr"
      },
      "source": [
        "X_train_pca=pca.transform(X_train)"
      ],
      "execution_count": null,
      "outputs": []
    },
    {
      "cell_type": "code",
      "metadata": {
        "colab": {
          "base_uri": "https://localhost:8080/"
        },
        "id": "egeEocLNOU42",
        "outputId": "d66a59ae-004e-4f81-fb32-7cafd5c259d4"
      },
      "source": [
        "X_train"
      ],
      "execution_count": null,
      "outputs": [
        {
          "output_type": "execute_result",
          "data": {
            "text/plain": [
              "array([[-0.8180517 , -0.67564875,  0.39001629, ..., -1.31605041,\n",
              "         0.10060634,  1.00651693],\n",
              "       [-0.92009127, -0.7396692 ,  0.19025946, ..., -0.46276528,\n",
              "        -0.5930838 ,  1.15511012],\n",
              "       [-0.28933513, -0.21861875,  0.15973473, ..., -0.66461241,\n",
              "        -1.00040317,  0.57332754],\n",
              "       ...,\n",
              "       [-1.41459894, -0.56252623, -0.41333222, ..., -1.31920123,\n",
              "        -1.29779172,  1.46074486],\n",
              "       [-0.2253527 ,  0.34019592,  0.26021671, ..., -1.257985  ,\n",
              "        -1.05847132,  0.66860235],\n",
              "       [-0.65315759, -0.51418775,  0.57157981, ..., -0.92462647,\n",
              "        -0.50319868,  0.76330864]])"
            ]
          },
          "metadata": {
            "tags": []
          },
          "execution_count": 39
        }
      ]
    },
    {
      "cell_type": "markdown",
      "metadata": {
        "id": "QECGQghJLcDZ"
      },
      "source": [
        "# **Plotting the data**"
      ]
    },
    {
      "cell_type": "code",
      "metadata": {
        "colab": {
          "base_uri": "https://localhost:8080/",
          "height": 282
        },
        "id": "ziB_d9k7L4GE",
        "outputId": "1fa36ca3-2011-43e3-be03-1dfffc63c622"
      },
      "source": [
        "import matplotlib.pyplot as plt\n",
        "\n",
        "color=[]\n",
        "Y_pos=[1]*1000\n",
        "Y_neg=[0]*1000\n",
        "Y_train=Y_neg + Y_pos\n",
        "color=[]\n",
        "for i in range(len(Y_train)):\n",
        "  if(Y_train[i]==1):\n",
        "    color.append(\"blue\")\n",
        "  else:\n",
        "    color.append(\"red\")\n",
        "plt.scatter(X_train_pca[:,0],X_train_pca[:,1],c=color)\n",
        "\n",
        "# plt.scatter(features[:,0],features[:,1],c=color,marker=\"x\")\n"
      ],
      "execution_count": null,
      "outputs": [
        {
          "output_type": "execute_result",
          "data": {
            "text/plain": [
              "<matplotlib.collections.PathCollection at 0x7f253d1e2550>"
            ]
          },
          "metadata": {
            "tags": []
          },
          "execution_count": 40
        },
        {
          "output_type": "display_data",
          "data": {
            "image/png": "[encoded data removed]",
            "text/plain": [
              "<Figure size 432x288 with 1 Axes>"
            ]
          },
          "metadata": {
            "tags": [],
            "needs_background": "light"
          }
        }
      ]
    },
    {
      "cell_type": "markdown",
      "metadata": {
        "id": "aRVP5LgUPvJ6"
      },
      "source": [
        "# **PART E:Train a logistic regression classifier on the representations from the earlier task and report the classification accuracy on files 100.pos and 100.neg.**"
      ]
    },
    {
      "cell_type": "code",
      "metadata": {
        "colab": {
          "base_uri": "https://localhost:8080/"
        },
        "id": "7wgJ9fD2P4Os",
        "outputId": "b49ac60f-2a46-4233-a707-0dca3565fb53"
      },
      "source": [
        "from sklearn.linear_model import LogisticRegression\n",
        "clf = LogisticRegression(random_state=0,max_iter=200).fit(X_train, Y_train)"
      ],
      "execution_count": null,
      "outputs": [
        {
          "output_type": "stream",
          "text": [
            "/usr/local/lib/python3.7/dist-packages/sklearn/linear_model/_logistic.py:940: ConvergenceWarning: lbfgs failed to converge (status=1):\n",
            "STOP: TOTAL NO. of ITERATIONS REACHED LIMIT.\n",
            "\n",
            "Increase the number of iterations (max_iter) or scale the data as shown in:\n",
            "    https://scikit-learn.org/stable/modules/preprocessing.html\n",
            "Please also refer to the documentation for alternative solver options:\n",
            "    https://scikit-learn.org/stable/modules/linear_model.html#logistic-regression\n",
            "  extra_warning_msg=_LOGISTIC_SOLVER_CONVERGENCE_MSG)\n"
          ],
          "name": "stderr"
        }
      ]
    },
    {
      "cell_type": "code",
      "metadata": {
        "colab": {
          "base_uri": "https://localhost:8080/"
        },
        "id": "x-F649phQY97",
        "outputId": "284a4a7a-c36e-40d8-b9b5-b6687083a90d"
      },
      "source": [
        "#accuracy on training data\n",
        "print(\"accuracy on training set\",clf.score(X_train,Y_train))"
      ],
      "execution_count": null,
      "outputs": [
        {
          "output_type": "stream",
          "text": [
            "accuracy on training set 0.75\n"
          ],
          "name": "stdout"
        }
      ]
    },
    {
      "cell_type": "markdown",
      "metadata": {
        "id": "edjGwF02Q04O"
      },
      "source": [
        "**loading test set and preprocess**"
      ]
    },
    {
      "cell_type": "code",
      "metadata": {
        "colab": {
          "base_uri": "https://localhost:8080/"
        },
        "id": "BdKcGL4kQs_U",
        "outputId": "009af4c2-d997-4d00-80ea-914f8e3b3250"
      },
      "source": [
        "file3 = open('/content/gdrive/MyDrive/Unsupervised learning encoder/100.pos') \n",
        "file4 = open('/content/gdrive/MyDrive/Unsupervised learning encoder/100.neg') \n",
        "X_pos_test=[]\n",
        "for row in file3:\n",
        "\n",
        "    sentence_token=[]\n",
        "\n",
        "    for t in english_tokenizer(row):\n",
        "        sentence_token.append(t)\n",
        "  \n",
        "    sentence_token.insert(0,'<sos>') # append <sos> token\n",
        "    sentence_token.append('<eos>') # append <eos> token\n",
        "    num_vec = []\n",
        "\n",
        "    for t in sentence_token:\n",
        "      num_vec.append(E_word2index.get(t,2))\n",
        "    o = encode_sen(model, device, num_vec, max_length=70)\n",
        "    X_pos_test.append(o.tolist())\n",
        "X1=[]\n",
        "for i in range(len(X_pos_test)):\n",
        "  X1.append(X_pos_test[i][0][0])\n",
        "X_testP=np.array(X1)\n",
        "X_testP.shape\n",
        "\n",
        "#loading 100.neg\n",
        "X_neg_test=[]\n",
        "for row in file4:\n",
        "\n",
        "    sentence_token=[]\n",
        "\n",
        "    for t in english_tokenizer(row):\n",
        "        sentence_token.append(t)\n",
        "  \n",
        "    sentence_token.insert(0,'<sos>') # append <sos> token\n",
        "    sentence_token.append('<eos>') # append <eos> token\n",
        "    num_vec = []\n",
        "\n",
        "    for t in sentence_token:\n",
        "      num_vec.append(E_word2index.get(t,2))\n",
        "    o = encode_sen(model, device, num_vec, max_length=70)\n",
        "    X_neg_test.append(o.tolist())\n",
        "X2=[]\n",
        "for i in range(len(X_neg_test)):\n",
        "  X2.append(X_neg_test[i][0][0])\n",
        "X_testN=np.array(X1)\n",
        "X_testN.shape\n",
        "\n",
        "\n",
        "\n"
      ],
      "execution_count": null,
      "outputs": [
        {
          "output_type": "execute_result",
          "data": {
            "text/plain": [
              "(100, 100)"
            ]
          },
          "metadata": {
            "tags": []
          },
          "execution_count": 51
        }
      ]
    },
    {
      "cell_type": "code",
      "metadata": {
        "id": "PykbZoJwdx35"
      },
      "source": [
        "X_test=np.concatenate((X_testP, X_testN), axis=0)\n",
        "y_test=[1]*100+[0]*100"
      ],
      "execution_count": null,
      "outputs": []
    },
    {
      "cell_type": "code",
      "metadata": {
        "colab": {
          "base_uri": "https://localhost:8080/"
        },
        "id": "s8jWZdQ3ekx2",
        "outputId": "3bbdbbc8-7a5e-44bd-92c5-39a7a3fe7bd9"
      },
      "source": [
        "len(y_test)"
      ],
      "execution_count": null,
      "outputs": [
        {
          "output_type": "execute_result",
          "data": {
            "text/plain": [
              "200"
            ]
          },
          "metadata": {
            "tags": []
          },
          "execution_count": 53
        }
      ]
    },
    {
      "cell_type": "markdown",
      "metadata": {
        "id": "fN4vjLiKeEhu"
      },
      "source": [
        "# **testing classification performance on test data**"
      ]
    },
    {
      "cell_type": "code",
      "metadata": {
        "colab": {
          "base_uri": "https://localhost:8080/"
        },
        "id": "sKmD_5iTeIfQ",
        "outputId": "f2831b28-e8fa-460a-8491-3ebd24018fa0"
      },
      "source": [
        "print(\"accuracy on testing set\",clf.score(X_test,y_test))"
      ],
      "execution_count": null,
      "outputs": [
        {
          "output_type": "stream",
          "text": [
            "accuracy on testing set 0.72\n"
          ],
          "name": "stdout"
        }
      ]
    },
    {
      "cell_type": "markdown",
      "metadata": {
        "id": "JZSoT9-4v55Z"
      },
      "source": [
        "# **PART F: LSTM BASED TEXT CLASSIFIER**"
      ]
    },
    {
      "cell_type": "markdown",
      "metadata": {
        "id": "LIDgR3p_2oUL"
      },
      "source": [
        "#defining Model architecture"
      ]
    },
    {
      "cell_type": "code",
      "metadata": {
        "id": "D_Y3gTIwwGeV"
      },
      "source": [
        "class TextClassifier(nn.Module):\n",
        "    def __init__(self, input_size, embedding_size, hidden_size, dropout_val):\n",
        "        super().__init__()\n",
        "        self.dropout = nn.Dropout(dropout_val)\n",
        "        self.embedding = nn.Embedding(input_size, embedding_size)\n",
        "        # to make the LSTM bidirectional we pass bidirectional=True parameter\n",
        "        self.lstm = nn.LSTM(embedding_size, hidden_size, bidirectional = True)\n",
        "        # fully connected linear layer\n",
        "        self.linear_hidden = nn.Linear(hidden_size * 2, 2)\n",
        "        self.softmax=nn.Softmax(2)\n",
        "        \n",
        "    def forward(self, token_vec):  \n",
        "        #token_vec is a vector of indices mapping a word to its index in the vocabulary. token_vec.shape()=[max_batch_length, batch size]\n",
        "        \n",
        "        embedding = self.dropout(self.embedding(token_vec)) #embedding is a 3D tensor of shape (seq length, batch_size, embedding_size)\n",
        "        \n",
        "        encoder_outputs, (encoder_hidden, encoder_cell) = self.lstm(embedding) # the embedding is passed as input to the LSTM\n",
        "        # in encoder_outputs, encoder_hidden and encoder_cell we have 2 due to the bidirectional nature of LSTM encoder. These are hidden states of both the forward RNN and backward RNN.\n",
        "\n",
        "        y = self.linear_hidden(torch.cat((encoder_hidden[0:1], encoder_hidden[1:2]), dim = 2))\n",
        "        y=self.softmax(y)\n",
        "        return y"
      ],
      "execution_count": 7,
      "outputs": []
    },
    {
      "cell_type": "markdown",
      "metadata": {
        "id": "_NeJnbsJ2tM3"
      },
      "source": [
        "**Loading training data**"
      ]
    },
    {
      "cell_type": "code",
      "metadata": {
        "id": "fxbu-ooiy8aX"
      },
      "source": [
        "file1 = open('/content/gdrive/MyDrive/Unsupervised learning encoder/1000.pos') \n",
        "file2 = open('/content/gdrive/MyDrive/Unsupervised learning encoder/1000.neg') \n",
        "train_data=[]\n",
        "with open('/content/gdrive/MyDrive/Unsupervised learning encoder/1000.pos', 'r') as f: #reading the train file\n",
        "    csv_reader = csv.reader(f, delimiter=',')\n",
        "    for row in csv_reader:\n",
        "      if(len(row[0])>0):\n",
        "        train_data.append([row[0].lower()])\n",
        "\n",
        "with open('/content/gdrive/MyDrive/Unsupervised learning encoder/1000.neg', 'r') as f: #reading the train file\n",
        "    csv_reader = csv.reader(f, delimiter=',')\n",
        "    for row in csv_reader:\n",
        "      if(len(row[0])>0):\n",
        "        train_data.append([row[0]])\n",
        "\n",
        "\n"
      ],
      "execution_count": null,
      "outputs": []
    },
    {
      "cell_type": "markdown",
      "metadata": {
        "id": "th1jQ9C5wgFs"
      },
      "source": [
        ""
      ]
    },
    {
      "cell_type": "code",
      "metadata": {
        "colab": {
          "base_uri": "https://localhost:8080/"
        },
        "id": "ZlE6wh8e8TcG",
        "outputId": "e54feee9-e367-4fce-eab1-05875bb9ceb9"
      },
      "source": [
        "len(train_data)"
      ],
      "execution_count": null,
      "outputs": [
        {
          "output_type": "execute_result",
          "data": {
            "text/plain": [
              "2000"
            ]
          },
          "metadata": {
            "tags": []
          },
          "execution_count": 36
        }
      ]
    },
    {
      "cell_type": "code",
      "metadata": {
        "id": "elGORQk88XeQ"
      },
      "source": [
        "train_tensor=[] \n",
        "# finding tensor of indexes of training data\n",
        "i=0\n",
        "for i in range(0,len(train_data),batch_size):\n",
        "  max_len=50\n",
        "  for pair in train_data[i:i+batch_size]:\n",
        "    if(i==2000):\n",
        "      break\n",
        "    if(i<1000):\n",
        "      y=1\n",
        "    else:\n",
        "      y=0\n",
        "    source_tensor=E_sentenceToTensor(pair[0],max_len)\n",
        "    train_tensor.append([source_tensor,y])\n",
        "    i=i+1"
      ],
      "execution_count": null,
      "outputs": []
    },
    {
      "cell_type": "code",
      "metadata": {
        "colab": {
          "base_uri": "https://localhost:8080/"
        },
        "id": "_vEUl1YJ9UwP",
        "outputId": "cb3e4f8e-cb37-474a-cab9-a81f7e8fe2b2"
      },
      "source": [
        "len(train_tensor)"
      ],
      "execution_count": null,
      "outputs": [
        {
          "output_type": "execute_result",
          "data": {
            "text/plain": [
              "2000"
            ]
          },
          "metadata": {
            "tags": []
          },
          "execution_count": 72
        }
      ]
    },
    {
      "cell_type": "code",
      "metadata": {
        "id": "TGCiEWe5o5jf"
      },
      "source": [
        "train_iter = DataLoader(train_tensor, batch_size=batch_size,shuffle=True) \n"
      ],
      "execution_count": null,
      "outputs": []
    },
    {
      "cell_type": "markdown",
      "metadata": {
        "id": "YsYT2pB92ySL"
      },
      "source": [
        "**#Training the Model**"
      ]
    },
    {
      "cell_type": "code",
      "metadata": {
        "id": "VX5J3qA5m_6T"
      },
      "source": [
        "classifier=TextClassifier(input_size,embedding_size, hidden_size, dropout).to(device)"
      ],
      "execution_count": null,
      "outputs": []
    },
    {
      "cell_type": "code",
      "metadata": {
        "id": "Z8tJ8h0pm4WE"
      },
      "source": [
        "path=\"/content/gdrive/MyDrive/Unsupervised learning encoder/LSTM.pth\"\n",
        "pad_index = E_word2index['<pad>'] #finding the index of token <pad> in english vocabulary\n",
        "criterion = nn.CrossEntropyLoss(ignore_index = pad_index) #padding token is being ignored while loss computation because we don't want to pay price for <pad> token\n",
        "optimizer = optim.AdamW(classifier.parameters(), lr=learning_rate) # AdamW optimizer is used \n",
        "step = 0"
      ],
      "execution_count": 5,
      "outputs": []
    },
    {
      "cell_type": "code",
      "metadata": {
        "colab": {
          "base_uri": "https://localhost:8080/"
        },
        "id": "kFDXwC-JoaUg",
        "outputId": "5af165c2-5058-463c-8bcb-98f590e6dfea"
      },
      "source": [
        "train_loss=[]\n",
        "epochs=100\n",
        "for epoch in range(1,epochs+1):\n",
        "    epoch_loss=0\n",
        "    print(f\"[Epoch {epoch} / {epochs}]\")\n",
        "    # model.eval()\n",
        "    # model.train()\n",
        "    i=0\n",
        "    for id, (x,y) in enumerate(train_iter):   # iterating over batches of train_iterator\n",
        "      input_sentence = x.long()\n",
        "      # input_sentence and target_sentence have shape = (batch_size, maximum length) but we need shape to be (maximum length, batch_size ) so they are transposed\n",
        "      input_sentence=torch.transpose(input_sentence, 0, 1).to(device)\n",
        "\n",
        "      output =classifier(input_sentence) #forward propagation\n",
        "      # print(y.shape)\n",
        "      y = y.to(device)\n",
        "      output = torch.squeeze(output) \n",
        "      # print(output.shape)\n",
        "      optimizer.zero_grad() \n",
        "      loss = criterion(output, y)\n",
        "    \n",
        "      loss.backward() #backward propagation\n",
        "      torch.nn.utils.clip_grad_norm_(classifier.parameters(), max_norm=1) # clipping the gradients to keep them in reasonable range\n",
        "      optimizer.step() #gradient descent. The optimizer iterates over all parameters (tensors) to be updated and their internally stored gradients are used.\n",
        "      del output,input_sentence\n",
        "      step += 1\n",
        "      epoch_loss+=loss.item() # adding the epoch loss for each batch\n",
        "    # if(epoch==5): # saving the model after every 5 epochs \n",
        "    #   torch.save(model,path5)\n",
        "    # elif(epoch==10):\n",
        "    #   torch.save(model,path10)\n",
        "    # elif(epoch==15):\n",
        "    #   torch.save(model,path15)\n",
        "    # elif(epoch==20):\n",
        "    #   torch.save(model,path20)\n",
        "    # elif(epoch==25):\n",
        "    #   torch.save(model,path25)\n",
        "    # elif(epoch==30):\n",
        "    #   torch.save(model,path30)\n",
        "    # elif(epoch==35):\n",
        "    #   torch.save(model,path35)    \n",
        "\n",
        "    # val_loss=evaluate(model, test_iterator, criterion)\n",
        "    train_loss.append(epoch_loss/len(train_iter))\n",
        "    # validation_loss[epoch]=val_loss\n",
        "    print(\"Train loss : \", epoch_loss/len(train_iter))\n",
        "    # print(\"Validation loss : \", val_loss)"
      ],
      "execution_count": null,
      "outputs": [
        {
          "output_type": "stream",
          "text": [
            "[Epoch 1 / 100]\n",
            "Train loss :  0.3352406192570925\n",
            "[Epoch 2 / 100]\n",
            "Train loss :  0.3412248585373163\n",
            "[Epoch 3 / 100]\n",
            "Train loss :  0.33660560101270676\n",
            "[Epoch 4 / 100]\n",
            "Train loss :  0.3382800668478012\n",
            "[Epoch 5 / 100]\n",
            "Train loss :  0.3377098962664604\n",
            "[Epoch 6 / 100]\n",
            "Train loss :  0.33795899525284767\n",
            "[Epoch 7 / 100]\n",
            "Train loss :  0.3379580192267895\n",
            "[Epoch 8 / 100]\n",
            "Train loss :  0.3381540235131979\n",
            "[Epoch 9 / 100]\n",
            "Train loss :  0.3412804324179888\n",
            "[Epoch 10 / 100]\n",
            "Train loss :  0.33656646870076656\n",
            "[Epoch 11 / 100]\n",
            "Train loss :  0.33855815418064594\n",
            "[Epoch 12 / 100]\n",
            "Train loss :  0.33752672374248505\n",
            "[Epoch 13 / 100]\n",
            "Train loss :  0.3380460310727358\n",
            "[Epoch 14 / 100]\n",
            "Train loss :  0.34345471300184727\n",
            "[Epoch 15 / 100]\n",
            "Train loss :  0.3375020083039999\n",
            "[Epoch 16 / 100]\n",
            "Train loss :  0.3364537972956896\n",
            "[Epoch 17 / 100]\n",
            "Train loss :  0.3327263072133064\n",
            "[Epoch 18 / 100]\n",
            "Train loss :  0.33615279756486416\n",
            "[Epoch 19 / 100]\n",
            "Train loss :  0.3309409115463495\n",
            "[Epoch 20 / 100]\n",
            "Train loss :  0.3335505276918411\n",
            "[Epoch 21 / 100]\n",
            "Train loss :  0.333932850509882\n",
            "[Epoch 22 / 100]\n",
            "Train loss :  0.3363210316747427\n",
            "[Epoch 23 / 100]\n",
            "Train loss :  0.3369384668767452\n",
            "[Epoch 24 / 100]\n",
            "Train loss :  0.33782003819942474\n",
            "[Epoch 25 / 100]\n",
            "Train loss :  0.33536419086158276\n",
            "[Epoch 26 / 100]\n",
            "Train loss :  0.33121488988399506\n",
            "[Epoch 27 / 100]\n",
            "Train loss :  0.3335771672427654\n",
            "[Epoch 28 / 100]\n",
            "Train loss :  0.33564904518425465\n",
            "[Epoch 29 / 100]\n",
            "Train loss :  0.3354162946343422\n",
            "[Epoch 30 / 100]\n",
            "Train loss :  0.3283930979669094\n",
            "[Epoch 31 / 100]\n",
            "Train loss :  0.3332046661525965\n",
            "[Epoch 32 / 100]\n",
            "Train loss :  0.332957174628973\n",
            "[Epoch 33 / 100]\n",
            "Train loss :  0.3334542717784643\n",
            "[Epoch 34 / 100]\n",
            "Train loss :  0.33322297036647797\n",
            "[Epoch 35 / 100]\n",
            "Train loss :  0.335109019652009\n",
            "[Epoch 36 / 100]\n",
            "Train loss :  0.3353106714785099\n",
            "[Epoch 37 / 100]\n",
            "Train loss :  0.33339965902268887\n",
            "[Epoch 38 / 100]\n",
            "Train loss :  0.3331865109503269\n",
            "[Epoch 39 / 100]\n",
            "Train loss :  0.33350677974522114\n",
            "[Epoch 40 / 100]\n",
            "Train loss :  0.3326941356062889\n",
            "[Epoch 41 / 100]\n",
            "Train loss :  0.33576127514243126\n",
            "[Epoch 42 / 100]\n",
            "Train loss :  0.33490921929478645\n",
            "[Epoch 43 / 100]\n",
            "Train loss :  0.32988556288182735\n",
            "[Epoch 44 / 100]\n",
            "Train loss :  0.33096853643655777\n",
            "[Epoch 45 / 100]\n",
            "Train loss :  0.32867914624512196\n",
            "[Epoch 46 / 100]\n",
            "Train loss :  0.32730524241924286\n",
            "[Epoch 47 / 100]\n",
            "Train loss :  0.3322430308908224\n",
            "[Epoch 48 / 100]\n",
            "Train loss :  0.3276667930185795\n",
            "[Epoch 49 / 100]\n",
            "Train loss :  0.33068410493433475\n",
            "[Epoch 50 / 100]\n",
            "Train loss :  0.33404790237545967\n",
            "[Epoch 51 / 100]\n",
            "Train loss :  0.33116206899285316\n",
            "[Epoch 52 / 100]\n",
            "Train loss :  0.3308275956660509\n",
            "[Epoch 53 / 100]\n",
            "Train loss :  0.3265314418822527\n",
            "[Epoch 54 / 100]\n",
            "Train loss :  0.3326986115425825\n",
            "[Epoch 55 / 100]\n",
            "Train loss :  0.3319269474595785\n",
            "[Epoch 56 / 100]\n",
            "Train loss :  0.33062129467725754\n",
            "[Epoch 57 / 100]\n",
            "Train loss :  0.32729094848036766\n",
            "[Epoch 58 / 100]\n",
            "Train loss :  0.3300348110496998\n",
            "[Epoch 59 / 100]\n",
            "Train loss :  0.32587805762887\n",
            "[Epoch 60 / 100]\n",
            "Train loss :  0.3303068932145834\n",
            "[Epoch 61 / 100]\n",
            "Train loss :  0.3292033337056637\n",
            "[Epoch 62 / 100]\n",
            "Train loss :  0.3298199586570263\n",
            "[Epoch 63 / 100]\n",
            "Train loss :  0.3300068397074938\n",
            "[Epoch 64 / 100]\n",
            "Train loss :  0.33133669942617416\n",
            "[Epoch 65 / 100]\n",
            "Train loss :  0.3289037737995386\n",
            "[Epoch 66 / 100]\n",
            "Train loss :  0.3287424985319376\n",
            "[Epoch 67 / 100]\n",
            "Train loss :  0.3268084432929754\n",
            "[Epoch 68 / 100]\n",
            "Train loss :  0.3299908470362425\n",
            "[Epoch 69 / 100]\n",
            "Train loss :  0.32764206640422344\n",
            "[Epoch 70 / 100]\n",
            "Train loss :  0.327256528660655\n",
            "[Epoch 71 / 100]\n",
            "Train loss :  0.3279256895184517\n",
            "[Epoch 72 / 100]\n",
            "Train loss :  0.330810084939003\n",
            "[Epoch 73 / 100]\n",
            "Train loss :  0.326312318444252\n",
            "[Epoch 74 / 100]\n",
            "Train loss :  0.3309556841850281\n",
            "[Epoch 75 / 100]\n",
            "Train loss :  0.32788196951150894\n",
            "[Epoch 76 / 100]\n",
            "Train loss :  0.3291023503988981\n",
            "[Epoch 77 / 100]\n",
            "Train loss :  0.32483315095305443\n",
            "[Epoch 78 / 100]\n",
            "Train loss :  0.3253432773053646\n",
            "[Epoch 79 / 100]\n",
            "Train loss :  0.32498146034777164\n",
            "[Epoch 80 / 100]\n",
            "Train loss :  0.32914442755281925\n",
            "[Epoch 81 / 100]\n",
            "Train loss :  0.3275785595178604\n",
            "[Epoch 82 / 100]\n",
            "Train loss :  0.3264622036367655\n",
            "[Epoch 83 / 100]\n",
            "Train loss :  0.3288075067102909\n",
            "[Epoch 84 / 100]\n",
            "Train loss :  0.3235244546085596\n",
            "[Epoch 85 / 100]\n",
            "Train loss :  0.33032816275954247\n",
            "[Epoch 86 / 100]\n",
            "Train loss :  0.3277615197002888\n",
            "[Epoch 87 / 100]\n",
            "Train loss :  0.3256921209394932\n",
            "[Epoch 88 / 100]\n",
            "Train loss :  0.32660909183323383\n",
            "[Epoch 89 / 100]\n",
            "Train loss :  0.3261032681912184\n",
            "[Epoch 90 / 100]\n",
            "Train loss :  0.32687594555318356\n",
            "[Epoch 91 / 100]\n",
            "Train loss :  0.3268379792571068\n",
            "[Epoch 92 / 100]\n",
            "Train loss :  0.3290490470826626\n",
            "[Epoch 93 / 100]\n",
            "Train loss :  0.32534280978143215\n",
            "[Epoch 94 / 100]\n",
            "Train loss :  0.32821793854236603\n",
            "[Epoch 95 / 100]\n",
            "Train loss :  0.32884059473872185\n",
            "[Epoch 96 / 100]\n",
            "Train loss :  0.3326552174985409\n",
            "[Epoch 97 / 100]\n",
            "Train loss :  0.3254304975271225\n",
            "[Epoch 98 / 100]\n",
            "Train loss :  0.32438386231660843\n",
            "[Epoch 99 / 100]\n",
            "Train loss :  0.3257240578532219\n",
            "[Epoch 100 / 100]\n",
            "Train loss :  0.3273617420345545\n"
          ],
          "name": "stdout"
        }
      ]
    },
    {
      "cell_type": "code",
      "metadata": {
        "id": "Z0fNmKdK3RMq"
      },
      "source": [
        "#saving the model\n",
        "torch.save(classifier,path)"
      ],
      "execution_count": 9,
      "outputs": []
    },
    {
      "cell_type": "markdown",
      "metadata": {
        "id": "jv-3ksRIwiCe"
      },
      "source": [
        "**#testing the LSTM classifier**"
      ]
    },
    {
      "cell_type": "code",
      "metadata": {
        "id": "8j5sRAfzjlUL"
      },
      "source": [
        "classifier=torch.load(path)"
      ],
      "execution_count": 10,
      "outputs": []
    },
    {
      "cell_type": "code",
      "metadata": {
        "colab": {
          "base_uri": "https://localhost:8080/"
        },
        "id": "aQ5SbxM6kCZ_",
        "outputId": "97d1247b-1253-4567-80c7-a3d5d616b9d5"
      },
      "source": [
        "classifier.eval()"
      ],
      "execution_count": 11,
      "outputs": [
        {
          "output_type": "execute_result",
          "data": {
            "text/plain": [
              "TextClassifier(\n",
              "  (dropout): Dropout(p=0.5, inplace=False)\n",
              "  (embedding): Embedding(26630, 100)\n",
              "  (lstm): LSTM(100, 100, bidirectional=True)\n",
              "  (linear_hidden): Linear(in_features=200, out_features=2, bias=True)\n",
              "  (softmax): Softmax(dim=2)\n",
              ")"
            ]
          },
          "metadata": {
            "tags": []
          },
          "execution_count": 11
        }
      ]
    },
    {
      "cell_type": "code",
      "metadata": {
        "id": "qxMX6x2rwcjF"
      },
      "source": [
        "file3 = open('/content/gdrive/MyDrive/Unsupervised learning encoder/1000.pos') \n",
        "file4 = open('/content/gdrive/MyDrive/Unsupervised learning encoder/1000.neg') \n",
        "test_data=[]\n",
        "with open('/content/gdrive/MyDrive/Unsupervised learning encoder/100.pos', 'r') as f: #reading the train file\n",
        "    csv_reader = csv.reader(f, delimiter=',')\n",
        "    for row in csv_reader:\n",
        "      if(len(row[0])>0):\n",
        "        test_data.append([row[0].lower()])\n",
        "\n",
        "with open('/content/gdrive/MyDrive/Unsupervised learning encoder/100.neg', 'r') as f: #reading the train file\n",
        "    csv_reader = csv.reader(f, delimiter=',')\n",
        "    for row in csv_reader:\n",
        "      if(len(row[0])>0):\n",
        "        test_data.append([row[0]])\n",
        "\n",
        "\n"
      ],
      "execution_count": null,
      "outputs": []
    },
    {
      "cell_type": "code",
      "metadata": {
        "colab": {
          "base_uri": "https://localhost:8080/"
        },
        "id": "skRV8EEQwxY4",
        "outputId": "e3246fad-6fb8-4614-fa58-70572af9ccf7"
      },
      "source": [
        "len(test_data)"
      ],
      "execution_count": null,
      "outputs": [
        {
          "output_type": "execute_result",
          "data": {
            "text/plain": [
              "200"
            ]
          },
          "metadata": {
            "tags": []
          },
          "execution_count": 115
        }
      ]
    },
    {
      "cell_type": "code",
      "metadata": {
        "id": "QJKD0XCKw5oK"
      },
      "source": [
        "test_tensor=[] \n",
        "# finding tensor of indexes of training data\n",
        "i=0\n",
        "for i in range(0,len(train_data),batch_size):\n",
        "  max_len=50\n",
        "  for pair in test_data[i:i+batch_size]:\n",
        "    if(i==200):\n",
        "      break\n",
        "    if(i<100):\n",
        "      y=1\n",
        "    else:\n",
        "      y=0\n",
        "    source_tensor=E_sentenceToTensor(pair[0],max_len)\n",
        "    test_tensor.append([source_tensor,y])\n",
        "    i=i+1"
      ],
      "execution_count": null,
      "outputs": []
    },
    {
      "cell_type": "code",
      "metadata": {
        "id": "xYtB9Ye02BVM"
      },
      "source": [
        "test_iter = DataLoader(test_tensor, batch_size=batch_size,shuffle=True) \n"
      ],
      "execution_count": null,
      "outputs": []
    },
    {
      "cell_type": "markdown",
      "metadata": {
        "id": "XHY5i5hQ2GCm"
      },
      "source": [
        "**#accuracy on training data**"
      ]
    },
    {
      "cell_type": "code",
      "metadata": {
        "colab": {
          "base_uri": "https://localhost:8080/"
        },
        "id": "g3D02Yw7xQjJ",
        "outputId": "07d59d6d-6299-42e3-ff08-1ebf8e57fb81"
      },
      "source": [
        "c=0\n",
        "for id,(x,y) in enumerate(train_iter):\n",
        "  input_sentence = x.long()\n",
        "  input_sentence=torch.transpose(input_sentence, 0, 1).to(device)\n",
        "\n",
        "  output =classifier(input_sentence) #forward propagation\n",
        "  # print(y.shape)\n",
        "  y = y.to(device)\n",
        "  output = torch.squeeze(output) \n",
        "  out=np.array(output.tolist())\n",
        "  y=np.array(y.tolist())\n",
        "  for i in range(len(out)):\n",
        "    if(out[i].argmax()==y[i]):\n",
        "      c=c+1\n",
        "  \n",
        "  # print(output.shape)\n",
        "  del output,input_sentence\n",
        "print(\"acccuracy on training data\",c/len(train_data)*100)\n"
      ],
      "execution_count": null,
      "outputs": [
        {
          "output_type": "stream",
          "text": [
            "acccuracy on training data 98.6\n"
          ],
          "name": "stdout"
        }
      ]
    },
    {
      "cell_type": "markdown",
      "metadata": {
        "id": "dc97r6hq2Km3"
      },
      "source": [
        "**Accuracy on testing data**"
      ]
    },
    {
      "cell_type": "code",
      "metadata": {
        "colab": {
          "base_uri": "https://localhost:8080/"
        },
        "id": "1ZpleNC41yax",
        "outputId": "9d4bde74-e573-48c4-dc25-c5cc78390c6d"
      },
      "source": [
        "c=0\n",
        "for id,(x,y) in enumerate(test_iter):\n",
        "  input_sentence = x.long()\n",
        "  input_sentence=torch.transpose(input_sentence, 0, 1).to(device)\n",
        "\n",
        "  output =classifier(input_sentence) #forward propagation\n",
        "  # print(y.shape)\n",
        "  y = y.to(device)\n",
        "  output = torch.squeeze(output) \n",
        "  out=np.array(output.tolist())\n",
        "  y=np.array(y.tolist())\n",
        "  for i in range(len(out)):\n",
        "    if(out[i].argmax()==y[i]):\n",
        "      c=c+1\n",
        "  \n",
        "  # print(output.shape)\n",
        "  del output,input_sentence\n",
        "print(\"acccuracy on testing data\",c/len(test_data)*100)\n"
      ],
      "execution_count": null,
      "outputs": [
        {
          "output_type": "stream",
          "text": [
            "acccuracy on testing data 82.5\n"
          ],
          "name": "stdout"
        }
      ]
    },
    {
      "cell_type": "markdown",
      "metadata": {
        "id": "PEKBy46fsxda"
      },
      "source": [
        "# 9. References\n",
        "\n",
        "\n",
        "[1] [https://pytorch.org/tutorials/intermediate/seq2seq_translation_tutorial.html](https://pytorch.org/tutorials/intermediate/seq2seq_translation_tutorial.html)\n"
      ]
    },
    {
      "cell_type": "code",
      "metadata": {
        "id": "JcDE4gicwwQJ"
      },
      "source": [
        ""
      ],
      "execution_count": null,
      "outputs": []
    },
    {
      "cell_type": "code",
      "metadata": {
        "id": "spIV-scs8W14"
      },
      "source": [
        ""
      ],
      "execution_count": null,
      "outputs": []
    }
  ]
}